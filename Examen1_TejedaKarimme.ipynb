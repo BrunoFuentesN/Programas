{
 "cells": [
  {
   "cell_type": "markdown",
   "metadata": {},
   "source": [
    "# Examen Módulo 1 - Optimización.\n",
    "\n",
    "**Lea cuidadosamente las siguientes indicaciones antes de comenzar el examen:**\n",
    "- Para resolver el examen edite este mismo archivo y renómbrelo de la siguiente manera: *Examen1_ApellidoNombre*, donde *ApellidoNombre* corresponde a su apellido paterno con la inicial en mayúscula, seguido de su primer nombre con la inicial en mayúscula **sin acentos**. Por ejemplo, en mi caso el nombre del archivo sería *Examen1_ArellanoCarlos*.\n",
    "- Resuelva los puntos en el espacio provisto. Si requiere agregar más celdas para código o escritura, hágalo (`Esc`,`B`) o (`Esc`,`A`).\n",
    "- Recuerde que también se está evaluando su capacidad de interpretar los resultados. Escriba sus interpretaciones/conclusiones en celdas utilizando *Markdown*.\n",
    "- El formato de presentación de todo el examen en general debe ser adecuado. Use tamaños de letra, colores, etiquetas, etcétera.\n",
    "- No se resuelven dudas de ningún tipo por los profesores de la asignatura. Por favor, absténgase de preguntar."
   ]
  },
  {
   "cell_type": "markdown",
   "metadata": {},
   "source": [
    "---\n",
    "# Primer punto. Optimización de funciones con `SymPy` (34 puntos)\n",
    "\n",
    "**Volumen máximo**. Considere un cono circular recto inscrito en una esfera de radio $r$:"
   ]
  },
  {
   "cell_type": "code",
   "execution_count": 1,
   "metadata": {},
   "outputs": [
    {
     "data": {
      "image/png": "[encoded data removed]",
      "text/plain": [
       "<Figure size 432x288 with 1 Axes>"
      ]
     },
     "metadata": {
      "needs_background": "light"
     },
     "output_type": "display_data"
    }
   ],
   "source": [
    "import numpy as np\n",
    "import matplotlib.pyplot as plt\n",
    "import matplotlib.patches as patches\n",
    "%matplotlib inline\n",
    "\n",
    "B1 = patches.Arc((0, -0.4), 1.8,0.3,theta2=180,fc='None',ls='--',color='k')\n",
    "B2 = patches.Arc((0, -0.4), 1.8,0.3,theta1=180,fc='None',color='k')\n",
    "C = patches.Circle((0, 0), 1,fc='None',lw=2,color='k');\n",
    "ax = plt.gca()\n",
    "ax.add_artist(B1)\n",
    "ax.add_artist(B2)\n",
    "ax.add_artist(C)\n",
    "\n",
    "plt.plot([0.9,0,-0.9],[-0.4,1,-0.4],'k')\n",
    "plt.plot([0,0],[-0.4,1],'--r')\n",
    "plt.plot([0,0],[-0.4,0],'ok')\n",
    "plt.plot([0,0.9],[0,-0.4],'--r')\n",
    "plt.plot([-0.2,0],[-0.4,-0.4],'--k')\n",
    "plt.plot([-0.2,0],[1,1],'--k')\n",
    "plt.plot([-0.14,-0.14],[-0.4,0.2],'--k')\n",
    "plt.plot([-0.14,-0.14],[0.4,1],'--k')\n",
    "\n",
    "plt.text(-0.18,0.26,'h')\n",
    "plt.text(0.4,-0.1,'$r$')\n",
    "plt.text(0.05,0.4,'$r$')\n",
    "\n",
    "plt.axis([-1.7,1.7,-1.1,1.1])\n",
    "plt.axis('off')\n",
    "plt.show()"
   ]
  },
  {
   "cell_type": "markdown",
   "metadata": {},
   "source": [
    "1. Escriba el volumen $V$ del cono como una función de la altura $h$ de éste. Realice este punto usando fórmulas de $\\LaTeX$, en celdas *Markdown*. (14 puntos)\n",
    "2. Determinar el valor de $h$ que maximiza el volumen para un radio $r=2$. (10 puntos)\n",
    "3. ¿Cuál es el volumen máximo del cono? (10 puntos)"
   ]
  },
  {
   "cell_type": "markdown",
   "metadata": {},
   "source": [
    "La fórmula del Volumen es:\n",
    "\n",
    "$$\n",
    "V = \\frac{1}{3}\\pi r^2h\n",
    "$$\n",
    "Realicé un corte trasnversal de la figura.\n",
    "\n",
    "Utilicé el teorema de la altura y considerando que mi radio es $r = 2$ y por lo tanto mi diámetro =$4$\n",
    "\n",
    "Se forma un triángulo rectángulo que a su vez se divide en 2 triángulos rectángulos.\n",
    "\n",
    "La altura de mi triángulo cuadrado se define como: la altura al cuadrado es = al producto de sus proyecciones y me quedaría de la siguiente manera:\n",
    "\n",
    "$$\n",
    "d^2 = h(4-h)\n",
    "$$\n",
    "$$\n",
    "d^2 = 4h-h^2\n",
    "$$\n",
    "$$\n",
    "d = \\sqrt(4h-h^2)\n",
    "$$\n",
    "\n",
    "Esta altura me representa el radio de la base del cono, por lo tanto:\n",
    "\n",
    "$$\n",
    "r = \\sqrt(4h-h^2)\n",
    "$$\n",
    "\n",
    "Sustituyendo en la función del volumen:\n",
    "$$\n",
    "V = \\frac{1}{3} \\pi (\\sqrt(4h-h^2))^2h\n",
    "$$\n",
    "\n",
    "Eliminando el radical y el cuadrado\n",
    "\n",
    "$$\n",
    "V = \\frac{1}{3} \\pi (4h-h^2)h\n",
    "$$\n",
    "\n",
    "Aplicando la propieda distributiva, obtenemos:\n",
    "\n",
    "$$\n",
    "V = \\frac{1}{3} \\pi (4h^2-h^3)\n",
    "$$\n",
    "\n",
    "Por lo tanto mi función a maximizar es:\n",
    "\n",
    "$$\n",
    "max V = \\frac{1}{3} \\pi (4h^2-h^3) \n",
    "$$"
   ]
  },
  {
   "cell_type": "code",
   "execution_count": 1,
   "metadata": {},
   "outputs": [],
   "source": [
    "#Importar librerías\n",
    "import numpy as np\n",
    "import sympy as sym\n",
    "import matplotlib.pyplot as plt"
   ]
  },
  {
   "cell_type": "code",
   "execution_count": 118,
   "metadata": {},
   "outputs": [
    {
     "data": {
      "text/latex": [
       "$\\displaystyle \\frac{\\pi \\left(- h^{3} + 4 h^{2}\\right)}{3}$"
      ],
      "text/plain": [
       "pi*(-h**3 + 4*h**2)/3"
      ]
     },
     "execution_count": 118,
     "metadata": {},
     "output_type": "execute_result"
    }
   ],
   "source": [
    "sym.var('h')\n",
    "def V(h):\n",
    "    return (sym.pi*(4*h**2-h**3))/3\n",
    "V(h)"
   ]
  },
  {
   "cell_type": "code",
   "execution_count": 119,
   "metadata": {},
   "outputs": [
    {
     "data": {
      "text/plain": [
       "[0, 8/3]"
      ]
     },
     "execution_count": 119,
     "metadata": {},
     "output_type": "execute_result"
    }
   ],
   "source": [
    "dV=sym.diff(V(h),h)\n",
    "pc=sym.solve(dV,h)\n",
    "pc"
   ]
  },
  {
   "cell_type": "code",
   "execution_count": 124,
   "metadata": {},
   "outputs": [
    {
     "data": {
      "text/latex": [
       "$\\displaystyle \\frac{\\pi \\left(8 - 6 h\\right)}{3}$"
      ],
      "text/plain": [
       "pi*(8 - 6*h)/3"
      ]
     },
     "execution_count": 124,
     "metadata": {},
     "output_type": "execute_result"
    }
   ],
   "source": [
    "ddV=sym.diff(dV,h)\n",
    "ddV"
   ]
  },
  {
   "cell_type": "code",
   "execution_count": 125,
   "metadata": {},
   "outputs": [
    {
     "data": {
      "text/latex": [
       "$\\displaystyle - \\frac{8 \\pi}{3}$"
      ],
      "text/plain": [
       "-8*pi/3"
      ]
     },
     "execution_count": 125,
     "metadata": {},
     "output_type": "execute_result"
    }
   ],
   "source": [
    "ddV.subs(h,pc[1])"
   ]
  },
  {
   "cell_type": "markdown",
   "metadata": {},
   "source": [
    "Como es $<0$ se comprueba que es un máximo relativo"
   ]
  },
  {
   "cell_type": "code",
   "execution_count": 126,
   "metadata": {},
   "outputs": [
    {
     "data": {
      "image/png": "[encoded data removed]",
      "text/plain": [
       "<Figure size 432x288 with 1 Axes>"
      ]
     },
     "metadata": {
      "needs_background": "light"
     },
     "output_type": "display_data"
    }
   ],
   "source": [
    "# Gráfica\n",
    "xn=np.linspace(0,3,100)\n",
    "y=V(xn)\n",
    "plt.plot(xn,y)\n",
    "plt.plot(pc[1],V(pc[1]),'^',ms=10)\n",
    "plt.grid()"
   ]
  },
  {
   "cell_type": "code",
   "execution_count": 129,
   "metadata": {},
   "outputs": [
    {
     "data": {
      "text/latex": [
       "$\\displaystyle \\frac{8}{3}$"
      ],
      "text/plain": [
       "8/3"
      ]
     },
     "execution_count": 129,
     "metadata": {},
     "output_type": "execute_result"
    }
   ],
   "source": [
    "pc[1]"
   ]
  },
  {
   "cell_type": "code",
   "execution_count": 128,
   "metadata": {},
   "outputs": [
    {
     "data": {
      "text/latex": [
       "$\\displaystyle \\frac{256 \\pi}{81}$"
      ],
      "text/plain": [
       "256*pi/81"
      ]
     },
     "execution_count": 128,
     "metadata": {},
     "output_type": "execute_result"
    }
   ],
   "source": [
    "V(pc[1])"
   ]
  },
  {
   "cell_type": "markdown",
   "metadata": {},
   "source": [
    "---\n",
    "El volumen máximo del cono es:\n",
    "\n",
    "$ 256\\pi / 81 $"
   ]
  },
  {
   "cell_type": "markdown",
   "metadata": {},
   "source": [
    "La altura que maximiza este volumen del cono es :\n",
    "\n",
    "$8/3$"
   ]
  },
  {
   "cell_type": "markdown",
   "metadata": {},
   "source": [
    "---\n",
    "# Segundo punto. Programación lineal (34 puntos)\n",
    "\n",
    "Una compañia de aceros produce dos tamaños de tubos: A, B que son vendidos, respectivamente en 10u.m. y 9u.m. por metro. Para fabricar cada metro del tubo A se requieren 0.5 minutos de tiempo de procesamiento sobre un tipo particular de maquina de modelado y cada metro del tubo B requiere 0.6 minutos. Después de la producción, cada metro de tubo, sin importar el tipo requiere 1 onza de material de soldar. El costo total se estima en 3u.m. y 4u.m. por metro de los tubos respectivamente. Para la siguiente semana, la compañía ha recibido pedidos excepcionalmente grandes que totalizan 2000 metros del tubo A y 5000 metros del tubo B. como solo se dispone de 30 horas de tiempo de maquina esta semana y solo se tienen en inventario 3500 onzas de material de soldar, el departamento de producción no podrá satisfacer esta demanda. Como no se espera que continúe esta demanda tan alta, la gerencia esta considerando la compra de algunos de estos tubos a proveedores de Japón a un costo de entrega de 6u.m. por metro del tubo A y 7u.m. por metro del tubo B.\n",
    "\n",
    "Se desea conocer la cantidad de producción de cada tipo de tubo y la cantidad de compra a Japón para satisfacer la demanda y **maximizar** las ganancias de la compañía (esto es, precio de venta menos costos). La siguiente tabla presenta la información correspondiente.\n",
    "\n",
    "<table>\n",
    "  <tr>\n",
    "      <th>Tubo</th>\n",
    "      <th>Precio de venta</th>\n",
    "      <th>Demanda</th>\n",
    "      <th>Tiempo de máquina</th>\n",
    "      <th>Material para soldar</th>\n",
    "      <th>Costo de producción</th>\n",
    "      <th>Costo de compra</th>\n",
    "  </tr>\n",
    "  <tr>\n",
    "      <th>Tipo A</th>\n",
    "      <td>10</td>\n",
    "      <td>2000</td>\n",
    "      <td>0.5 min</td>\n",
    "      <td>1 oz/m</td>\n",
    "      <td>3</td>\n",
    "      <td>6</td>\n",
    "  </tr>\n",
    "  <tr style=\"border-bottom: 1px solid #000;\">\n",
    "      <th>Tipo B</th>\n",
    "      <td>9</td>\n",
    "      <td>5000</td>\n",
    "      <td>0.6 min</td>\n",
    "      <td>1 oz/m</td>\n",
    "      <td>4</td>\n",
    "      <td>7</td>\n",
    "  </tr>\n",
    "  <tr>\n",
    "      <td>Disponibilidad</td>\n",
    "      <td></td>\n",
    "      <td></td>\n",
    "      <td>30 horas</td>\n",
    "      <td>3500 oz</td>\n",
    "      <td></td>\n",
    "      <td></td>\n",
    "  </tr>\n",
    "</table>\n",
    "\n",
    "1. Escriba la función a **minimizar** junto con las restricciones, explicando detalladamente cada paso (usando fórmulas en $\\LaTeX$, en celdas Markdown). Además escriba el problema en la forma \\begin{equation}\n",
    "\\begin{array}{ll}\n",
    "\\min_{\\boldsymbol{x}} & \\boldsymbol{c}^T\\boldsymbol{x} \\\\\n",
    "\\text{s. a. }        & \\boldsymbol{A}_{eq}\\boldsymbol{x}=\\boldsymbol{b}_{eq} \\\\\n",
    "                     & \\boldsymbol{A}\\boldsymbol{x}\\leq\\boldsymbol{b},\n",
    "\\end{array}\\qquad\\text{(24 puntos)}\n",
    "\\end{equation}\n",
    "2. Resuelva el problema utilizando la función `linprog`. ¿Cuántos tubos de cada tipo se deben producir?, ¿Cuántos se deben comprar?, ¿Cuál es la ganancia? (10 puntos)"
   ]
  },
  {
   "cell_type": "markdown",
   "metadata": {},
   "source": [
    "---\n",
    "**Definición de variables**\n",
    "\n",
    "$x_a$ = Metros del tubo A a producir\n",
    "\n",
    "$y_a$ = Metros del tubo A a comprar\n",
    "\n",
    "$x_b$ = Metros del tubo B a producir\n",
    "\n",
    "$y_b$ = Metros del tubo B a comprar\n",
    "\n",
    "**Restricciones**\n",
    "\n",
    "$0.5x_a + 0.6x_b\\leq1800$ (Tiempo con el que se dispone en minutos)\n",
    "\n",
    "$x_a + x_b \\leq3500$ (Material para soldar con el que se cuenta)\n",
    "\n",
    "$x_a + y_a = 2000$ (Metros requeridos del tubo A)\n",
    "\n",
    "$x_b + y_b = 5000$ (Metros requeridos del tubo B)\n",
    "\n",
    "**Función a maximizar**\n",
    "\n",
    "Se busca maximizar la ganancia considerando la que se obtiene de los tubos producidos y de los comprados (precio de venta menos costos)\n",
    "\n",
    "$max 7x_a+5x_b+4y_a+2y_b$\n",
    "\n",
    "**Función a minimizar**\n",
    "\n",
    "Se busca minimizar el costo de la compra a Japón\n",
    "\n",
    "$min 6y_a+7y_b$"
   ]
  },
  {
   "cell_type": "code",
   "execution_count": 5,
   "metadata": {},
   "outputs": [],
   "source": [
    "import numpy as np\n",
    "import matplotlib.pyplot as plt\n",
    "import sympy as sym\n",
    "import scipy.optimize as opt"
   ]
  },
  {
   "cell_type": "code",
   "execution_count": 23,
   "metadata": {},
   "outputs": [
    {
     "data": {
      "text/plain": [
       "     con: array([0., 0.])\n",
       "     fun: -26666.666666666664\n",
       " message: 'Optimization terminated successfully.'\n",
       "     nit: 5\n",
       "   slack: array([  0.        , 166.66666667])\n",
       "  status: 0\n",
       " success: True\n",
       "       x: array([2000.        ,    0.        , 1333.33333333, 3666.66666667])"
      ]
     },
     "execution_count": 23,
     "metadata": {},
     "output_type": "execute_result"
    }
   ],
   "source": [
    "c=-np.array([7,5,4,2]) #Coeficientes de la función objetivo\n",
    "Aub=np.array([[0.5,0,0.6,0], #Restrcción tiempo que se dispone             \n",
    "              [1,0,1,0]]) #Restricción del material para soldar\n",
    "bub=np.array([1800,3500]) #Coeficientes de los límites de las restricciones\n",
    "Aeq=([[1,1,0,0],[0,0,1,1]]) #coeficientes de la igualdad\n",
    "beq=([2000,5000]) #coeficiente de la igualdad\n",
    "opt.linprog(c,Aub,bub,Aeq,beq,method='simplex')"
   ]
  },
  {
   "cell_type": "markdown",
   "metadata": {},
   "source": [
    "---\n",
    "Se obtiene un beneficio de $26,666.67 u.m$ de la siguiente manera:\n",
    "\n",
    "* Producir $2000$ metros del tubo A\n",
    "\n",
    "* No comprar metros del tubo A a Japón\n",
    "\n",
    "* Producir $1333$ metros del tubo B\n",
    "\n",
    "* Comprar $3667$ metros del tubo B a Japón"
   ]
  },
  {
   "cell_type": "markdown",
   "metadata": {},
   "source": [
    "---\n",
    "# Tercer punto. Ajuste de curvas (32 puntos)\n",
    "Los siguientes datos extraidos de Administrative Office of the U.S. Courts, representan el número de bancarrotas en cientos de miles entre los años 1988 y 2001."
   ]
  },
  {
   "cell_type": "code",
   "execution_count": 6,
   "metadata": {},
   "outputs": [],
   "source": [
    "y = np.array([5.946,6.430,7.255,8.804,9.725,9.187,8.453,8.581,\n",
    "              10.421,13.170,14.295,13.920,12.770,13.866])\n",
    "x = np.arange(8,22)"
   ]
  },
  {
   "cell_type": "markdown",
   "metadata": {},
   "source": [
    "1. Ajuste las bancarrotas con polinomios de grado 1, 3 y 5. Muestre los errores de forma gráfica, ¿Qué polinómio se ajusta mejor? (22 puntos)\n",
    "2. Muestre en un gráfico los datos y el polinómio que mejor se ajuste (5 puntos)\n",
    "3. Usar el modelo para averiguar el número de bancarrotas a mediados de 1998 (es decir en 1998.5) y predecirlo para el año 2011. ¿Qué diferencias encuentra en cuanto a la interpolación y la extrapolación? (5 puntos)"
   ]
  },
  {
   "cell_type": "code",
   "execution_count": 7,
   "metadata": {},
   "outputs": [
    {
     "data": {
      "image/png": "[encoded data removed]",
      "text/plain": [
       "<Figure size 432x288 with 1 Axes>"
      ]
     },
     "metadata": {
      "needs_background": "light"
     },
     "output_type": "display_data"
    }
   ],
   "source": [
    "x=np.linspace(8,22,14)\n",
    "y=y\n",
    "plt.scatter(x,y,c='k',s=5)\n",
    "plt.grid()"
   ]
  },
  {
   "cell_type": "code",
   "execution_count": 8,
   "metadata": {},
   "outputs": [],
   "source": [
    "def f(beta,x,n):\n",
    "    X=[x**i for i in range(n+1)]\n",
    "    return np.dot(beta,X)"
   ]
  },
  {
   "cell_type": "code",
   "execution_count": 9,
   "metadata": {},
   "outputs": [],
   "source": [
    "#Criterio de optimización (mínimos cuadrados)\n",
    "def fun(beta,x,y,n):\n",
    "    return np.sum((y-f(beta,x,n))**2)"
   ]
  },
  {
   "cell_type": "code",
   "execution_count": 10,
   "metadata": {},
   "outputs": [],
   "source": [
    "#Polinomio de grado 1\n",
    "n=1\n",
    "beta0=np.random.rand(n+1)\n",
    "sol1=opt.minimize(fun,beta0,args=(x,y,n))\n",
    "\n",
    "#Polinomio de grado 3\n",
    "n=3\n",
    "beta0=np.random.rand(n+1)\n",
    "sol3=opt.minimize(fun,beta0,args=(x,y,n))\n",
    "\n",
    "#Polinomio de grado 5\n",
    "n=5\n",
    "beta0=np.random.rand(n+1)\n",
    "sol5=opt.minimize(fun,beta0,args=(x,y,n))\n"
   ]
  },
  {
   "cell_type": "code",
   "execution_count": 11,
   "metadata": {},
   "outputs": [
    {
     "data": {
      "text/plain": [
       "      fun: 15.567476281319319\n",
       " hess_inv: array([[ 0.99624249, -0.06129407],\n",
       "       [-0.06129407,  0.0039176 ]])\n",
       "      jac: array([-3.93390656e-06,  6.67572021e-06])\n",
       "  message: 'Optimization terminated successfully.'\n",
       "     nfev: 15\n",
       "      nit: 2\n",
       "     njev: 5\n",
       "   status: 0\n",
       "  success: True\n",
       "        x: array([1.25744831, 0.59627963])"
      ]
     },
     "execution_count": 11,
     "metadata": {},
     "output_type": "execute_result"
    }
   ],
   "source": [
    "sol1"
   ]
  },
  {
   "cell_type": "code",
   "execution_count": 12,
   "metadata": {},
   "outputs": [
    {
     "data": {
      "text/plain": [
       "      fun: 15.201269757310458\n",
       " hess_inv: array([[ 6.54317519e-04,  3.72770566e-05,  2.19888235e-05,\n",
       "        -1.16943887e-06],\n",
       "       [ 3.72770566e-05,  3.76091869e-05, -3.38978133e-05,\n",
       "         1.77454450e-06],\n",
       "       [ 2.19888235e-05, -3.38978133e-05,  3.55584308e-05,\n",
       "        -1.86292027e-06],\n",
       "       [-1.16943887e-06,  1.77454450e-06, -1.86292027e-06,\n",
       "         9.87390905e-08]])\n",
       "      jac: array([-2.38418579e-07, -3.57627869e-07, -2.02655792e-06, -6.73532486e-05])\n",
       "  message: 'Desired error not necessarily achieved due to precision loss.'\n",
       "     nfev: 272\n",
       "      nit: 16\n",
       "     njev: 54\n",
       "   status: 2\n",
       "  success: False\n",
       "        x: array([ 8.83686547e+00, -1.09660737e+00,  1.18721513e-01, -2.63691537e-03])"
      ]
     },
     "execution_count": 12,
     "metadata": {},
     "output_type": "execute_result"
    }
   ],
   "source": [
    "sol3"
   ]
  },
  {
   "cell_type": "code",
   "execution_count": 13,
   "metadata": {},
   "outputs": [
    {
     "data": {
      "text/plain": [
       "      fun: 154.5903530207733\n",
       " hess_inv: array([[ 1.01680681e+00,  5.28225459e-02, -6.77398282e-02,\n",
       "         8.81028957e-03, -4.32684257e-04,  7.41144518e-06],\n",
       "       [ 5.28225459e-02,  1.15422972e+00, -3.29514505e-01,\n",
       "         3.41720232e-02, -1.52969060e-03,  2.49675750e-05],\n",
       "       [-6.77398282e-02, -3.29514505e-01,  1.00845387e-01,\n",
       "        -1.09102842e-02,  5.03637693e-04, -8.41344331e-06],\n",
       "       [ 8.81028957e-03,  3.41720232e-02, -1.09102842e-02,\n",
       "         1.21509315e-03, -5.73285812e-05,  9.73874367e-07],\n",
       "       [-4.32684257e-04, -1.52969060e-03,  5.03637693e-04,\n",
       "        -5.73285812e-05,  2.75010013e-06, -4.73226758e-08],\n",
       "       [ 7.41144518e-06,  2.49675750e-05, -8.41344331e-06,\n",
       "         9.73874367e-07, -4.73226758e-08,  8.22558150e-10]])\n",
       "      jac: array([-5.00881195e-01, -7.11760330e+00,  1.50926506e+02,  7.69395681e+03,\n",
       "        1.83343025e+05,  3.59382962e+06])\n",
       "  message: 'Desired error not necessarily achieved due to precision loss.'\n",
       "     nfev: 467\n",
       "      nit: 6\n",
       "     njev: 65\n",
       "   status: 2\n",
       "  success: False\n",
       "        x: array([-8.43400508e+00, -2.96469179e+01,  9.97900908e+00, -1.12694642e+00,\n",
       "        5.35188817e-02, -9.11857197e-04])"
      ]
     },
     "execution_count": 13,
     "metadata": {},
     "output_type": "execute_result"
    }
   ],
   "source": [
    "sol5"
   ]
  },
  {
   "cell_type": "code",
   "execution_count": 15,
   "metadata": {},
   "outputs": [],
   "source": [
    "sol=[0,0,0,0,0] \n",
    "for i in range(5):\n",
    "    beta0=np.random.rand(i+2)\n",
    "    sol[i]=opt.minimize(fun,beta0,args=(x,y,i+1))"
   ]
  },
  {
   "cell_type": "code",
   "execution_count": 16,
   "metadata": {},
   "outputs": [
    {
     "data": {
      "text/plain": [
       "(15.56747628131877, 15.201269778931835, 46.548748491247466)"
      ]
     },
     "execution_count": 16,
     "metadata": {},
     "output_type": "execute_result"
    }
   ],
   "source": [
    "sol[0].fun,sol[2].fun,sol[4].fun"
   ]
  },
  {
   "cell_type": "code",
   "execution_count": 21,
   "metadata": {},
   "outputs": [
    {
     "data": {
      "image/png": "[encoded data removed]",
      "text/plain": [
       "<Figure size 432x288 with 1 Axes>"
      ]
     },
     "metadata": {
      "needs_background": "light"
     },
     "output_type": "display_data"
    }
   ],
   "source": [
    "#Error cuadrático acumulado\n",
    "\n",
    "for i in range(5):\n",
    "    plt.plot(i+1,sol[i].fun,'ob')\n",
    "plt.xlabel('Grado del polinomio')\n",
    "plt.ylabel('Error cuadrático acumulado')\n",
    "plt.grid()"
   ]
  },
  {
   "cell_type": "code",
   "execution_count": 22,
   "metadata": {},
   "outputs": [
    {
     "name": "stdout",
     "output_type": "stream",
     "text": [
      "[1.25744906 0.59627958]\n",
      "[1.26988569e+00 5.94469871e-01 6.03212054e-05]\n",
      "[ 8.83686839e+00 -1.09660804e+00  1.18721560e-01 -2.63691640e-03]\n",
      "[-1.36009703e+02  4.28119190e+01 -4.65620838e+00  2.18830123e-01\n",
      " -3.71190201e-03]\n",
      "[ 8.14196953e-01  9.63917231e-01  8.03724964e-02 -2.99558279e-02\n",
      "  2.33685095e-03 -5.37556442e-05]\n"
     ]
    }
   ],
   "source": [
    "for i in range(5):\n",
    "    print(sol[i].x)"
   ]
  },
  {
   "cell_type": "markdown",
   "metadata": {},
   "source": [
    "Se puede concluir que el polinomio de grado 3 tiene un menor error de ajuste"
   ]
  },
  {
   "cell_type": "markdown",
   "metadata": {},
   "source": [
    "---\n",
    "Gráfico con los 3 polinomios"
   ]
  },
  {
   "cell_type": "code",
   "execution_count": 23,
   "metadata": {},
   "outputs": [
    {
     "data": {
      "image/png": "[encoded data removed]",
      "text/plain": [
       "<Figure size 432x288 with 1 Axes>"
      ]
     },
     "metadata": {
      "needs_background": "light"
     },
     "output_type": "display_data"
    }
   ],
   "source": [
    "plt.scatter(x,y,s=3,c='k')\n",
    "for i in range(5):\n",
    "    plt.plot(x,f(sol[i].x,x,i+1),label='Pol.'+str(i+1))\n",
    "plt.legend(loc='best')\n",
    "plt.grid()"
   ]
  },
  {
   "cell_type": "code",
   "execution_count": 24,
   "metadata": {},
   "outputs": [
    {
     "data": {
      "image/png": "[encoded data removed]",
      "text/plain": [
       "<Figure size 432x288 with 1 Axes>"
      ]
     },
     "metadata": {
      "needs_background": "light"
     },
     "output_type": "display_data"
    }
   ],
   "source": [
    "plt.scatter(x,y,s=3,c='k')\n",
    "plt.plot(x,f(sol[0].x,x,1),label='Pol.'+str(1))\n",
    "plt.plot(x,f(sol[2].x,x,3),label='Pol.'+str(3))\n",
    "plt.plot(x,f(sol[4].x,x,5),label='Pol.'+str(5))\n",
    "plt.legend(loc='best')\n",
    "plt.grid()"
   ]
  },
  {
   "cell_type": "markdown",
   "metadata": {},
   "source": [
    "---\n",
    "Gráfico del polinomio 3 que fue el que mejor se ajusta"
   ]
  },
  {
   "cell_type": "code",
   "execution_count": 144,
   "metadata": {},
   "outputs": [
    {
     "data": {
      "image/png": "[encoded data removed]",
      "text/plain": [
       "<Figure size 432x288 with 1 Axes>"
      ]
     },
     "metadata": {
      "needs_background": "light"
     },
     "output_type": "display_data"
    }
   ],
   "source": [
    "plt.scatter(x,y,s=5)\n",
    "f= sol3.x[0]+sol3.x[1]*x+sol3.x[2]*x**2+sol3.x[3]*x**3\n",
    "plt.plot(x,f,'r')\n",
    "plt.grid()"
   ]
  },
  {
   "cell_type": "markdown",
   "metadata": {},
   "source": [
    "---\n",
    "Número de bancarrotas a mediados de 1998 (es decir en 1998.5) y predicción para el año 2011. \n"
   ]
  },
  {
   "cell_type": "code",
   "execution_count": 17,
   "metadata": {},
   "outputs": [
    {
     "name": "stdout",
     "output_type": "stream",
     "text": [
      "7.518384678264275\n",
      "7.518469886107784\n",
      "7.358975782880689\n",
      "8.076822149661439\n",
      "7.227022968179995\n"
     ]
    }
   ],
   "source": [
    "a=1998.5-1988\n",
    "for i in range(5):\n",
    "    print(f(sol[i].x,a,i+1))"
   ]
  },
  {
   "cell_type": "markdown",
   "metadata": {},
   "source": [
    "Utilizando este modelo podemos ver la estimación de bancarrotas a mediados de 1998 con los polinomios 1 a 5, considerando únicamente los polinomios 1, 3 y 5 basándonos en que el 3 es el de menor error, dice que hay 7.35 bancarrotas, y comparándola con las bancarrotas de 1998 (14.295) y las de 1999(13.920) si hay mucha diferencia."
   ]
  },
  {
   "cell_type": "code",
   "execution_count": 19,
   "metadata": {},
   "outputs": [
    {
     "name": "stdout",
     "output_type": "stream",
     "text": [
      "14.971879445294235\n",
      "14.974603272344773\n",
      "14.335226698448622\n",
      "10.798505137726352\n",
      "4.155347660700045\n"
     ]
    }
   ],
   "source": [
    "a=2011-1988\n",
    "for i in range(5):\n",
    "    print(f(sol[i].x,a,i+1))"
   ]
  },
  {
   "cell_type": "markdown",
   "metadata": {},
   "source": [
    "Utilizando este modelo podemos ver la predicción de bancarrotas en el 2011 con los polinomios 1 a 5, y considerando únicamente el 1,3 y 5; basándonos que el de grado 3 es el que tiene menos error, hay una predicción de 14.33 bancarrotas"
   ]
  },
  {
   "cell_type": "markdown",
   "metadata": {},
   "source": [
    "---\n",
    "¿Qué diferencias encuentro en cuanto a la interpolación y la extrapolación?"
   ]
  },
  {
   "cell_type": "markdown",
   "metadata": {},
   "source": [
    "En la interpolación damos un valor de un dato dentro del rango de los datos conocidos, mientras que en la extrapolación, damos un valor que se sale del rango de los datos conocidos.\n"
   ]
  },
  {
   "cell_type": "code",
   "execution_count": null,
   "metadata": {},
   "outputs": [],
   "source": []
  }
 ],
 "metadata": {
  "kernelspec": {
   "display_name": "Python 3",
   "language": "python",
   "name": "python3"
  },
  "language_info": {
   "codemirror_mode": {
    "name": "ipython",
    "version": 3
   },
   "file_extension": ".py",
   "mimetype": "text/x-python",
   "name": "python",
   "nbconvert_exporter": "python",
   "pygments_lexer": "ipython3",
   "version": "3.8.5"
  }
 },
 "nbformat": 4,
 "nbformat_minor": 5
}
