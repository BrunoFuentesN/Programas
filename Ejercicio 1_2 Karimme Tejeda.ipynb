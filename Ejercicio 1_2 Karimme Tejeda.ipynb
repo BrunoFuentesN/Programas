{
 "cells": [
  {
   "cell_type": "markdown",
   "metadata": {},
   "source": [
    "# Ejercicios de Programación lineal"
   ]
  },
  {
   "cell_type": "markdown",
   "metadata": {},
   "source": [
    "#### Plantee el problema en celdas de `Markdown` y resuelva usando la función `linprog` de la librería `SciPy`"
   ]
  },
  {
   "cell_type": "markdown",
   "metadata": {},
   "source": [
    "1. Una fábrica produce focos incandesentes y los vende a 4.5 u.m., además de focos ahorradores que vende a 6 u.m. cada uno. La producción está limitada a 400 focos incandesentes y 300 focos ahorradores al día, además de no poder producir más de 500 focos en total.\n",
    "\n",
    "Si la fábrica vende toda su producción, determina cuántos focos incandesentes y cuántos focos ahorradores debe producir para obtener los máximos ingresos posibles y cuáles serían éstos."
   ]
  },
  {
   "cell_type": "markdown",
   "metadata": {},
   "source": [
    "Datos:\n",
    "\n",
    "Focos incandesentes: $4.5 u.m$\n",
    "\n",
    "Focos ahorradores: $6 u.m$\n",
    "\n",
    "$f_i$ = focos incandesentes\n",
    "\n",
    "$f_a$ = focos ahorradores\n",
    "\n",
    "Maximizar su producción:\n",
    "\n",
    "$-4.5f_i-6f_a$\n",
    "\n",
    "Restricciones:\n",
    "\n",
    "$f_i+f_a\\leq500$\n",
    "\n",
    "$f_i\\leq400$\n",
    "\n",
    "$f_a\\leq300$"
   ]
  },
  {
   "cell_type": "code",
   "execution_count": 2,
   "metadata": {},
   "outputs": [],
   "source": [
    "import numpy as np\n",
    "import scipy.optimize as opt"
   ]
  },
  {
   "cell_type": "code",
   "execution_count": 3,
   "metadata": {},
   "outputs": [
    {
     "data": {
      "text/plain": [
       "     con: array([], dtype=float64)\n",
       "     fun: -2700.0\n",
       " message: 'Optimization terminated successfully.'\n",
       "     nit: 3\n",
       "   slack: array([  0., 200.,   0.])\n",
       "  status: 0\n",
       " success: True\n",
       "       x: array([200., 300.])"
      ]
     },
     "execution_count": 3,
     "metadata": {},
     "output_type": "execute_result"
    }
   ],
   "source": [
    "A = np.array([[1,1],[1,0],[0,1]])\n",
    "b = np.array([500,400,300])\n",
    "c = np.array([-4.5,-6])\n",
    "opt.linprog(c,A,b,method='simplex')"
   ]
  },
  {
   "cell_type": "markdown",
   "metadata": {},
   "source": [
    "Los ingresos máximos son de $2700 u.m$ y debe de producir $200$ focos incandesentes y $300$ focos ahorradores"
   ]
  },
  {
   "cell_type": "markdown",
   "metadata": {},
   "source": [
    "2. Un frutero necesita 16 cajas de naranjas, 5 de plátanos y 20 de manzanas. Dos mayoristas pueden suministrarle para satisfacer sus necesidades, pero sólo venden la fruta en contenedores completos. El mayorista A envía en cada contenedor 8 cajas de naranjas, 1 de plátanos y 2 de manzanas. El mayorista B envía en cada contenedor 2 cajas de naranjas, una de plátanos y 7 de manzanas. Sabiendo que cada contenedor del mayorista A tiene un costo de 150 u.m. y el contenedor del mayorista B de 300 u.m., calcular cuántos contenedores habrá de comprar a cada mayorista, con objeto de reducir al mínimo el costo de lo solicitado."
   ]
  },
  {
   "cell_type": "markdown",
   "metadata": {},
   "source": [
    "Datos:\n",
    "\n",
    "Necesidades:\n",
    "\n",
    "$16$ cajas de naranjas\n",
    "\n",
    "$5$ cajas de plátanos\n",
    "\n",
    "$20$ cajas de manzanas\n",
    "\n",
    "Mayorista A:\n",
    "\n",
    "$8$ cajas de naranjas\n",
    "\n",
    "\n",
    "$1$ caja de plátanos\n",
    "\n",
    "$2$ cajas de manzanas\n",
    "\n",
    "Costo: $120 u.m$\n",
    "\n",
    "Mayorista B:\n",
    "\n",
    "$2$ cajas de naranjas\n",
    "\n",
    "$1$ caja de plátanos\n",
    "\n",
    "$7$ cajas de manzanas\n",
    "\n",
    "Costo: $300 u.m$\n",
    "\n",
    "**Minimizar el costo**\n",
    "\n",
    "$x$ = contenedores de A\n",
    "$y$ = contenedores de B\n",
    "\n",
    "Función objetivo: $150x+300y$\n",
    "\n",
    "Restricciones:\n",
    "\n",
    "$8x+2y\\geq16$\n",
    "\n",
    "\n",
    "$x+y\\geq5$\n",
    "\n",
    "$2x+7y\\geq20$"
   ]
  },
  {
   "cell_type": "code",
   "execution_count": 4,
   "metadata": {},
   "outputs": [
    {
     "data": {
      "text/plain": [
       "     con: array([], dtype=float64)\n",
       "     fun: 1050.0\n",
       " message: 'Optimization terminated successfully.'\n",
       "     nit: 4\n",
       "   slack: array([1.20000000e+01, 0.00000000e+00, 3.55271368e-15])\n",
       "  status: 0\n",
       " success: True\n",
       "       x: array([3., 2.])"
      ]
     },
     "execution_count": 4,
     "metadata": {},
     "output_type": "execute_result"
    }
   ],
   "source": [
    "A = np.array([[-8,-2],[-1,-1],[-2,-7]])\n",
    "b = np.array([-16,-5,-20])\n",
    "c = np.array([150,300])\n",
    "opt.linprog(c,A,b,method='simplex')"
   ]
  },
  {
   "cell_type": "markdown",
   "metadata": {},
   "source": [
    "Deberá de comprar $3$ contenedores al mayoriasta A y $2$ contenedores al mayorista B, reduciendo el costo a un total de $1050u.m$"
   ]
  },
  {
   "cell_type": "code",
   "execution_count": null,
   "metadata": {},
   "outputs": [],
   "source": []
  }
 ],
 "metadata": {
  "kernelspec": {
   "display_name": "Python 3",
   "language": "python",
   "name": "python3"
  },
  "language_info": {
   "codemirror_mode": {
    "name": "ipython",
    "version": 3
   },
   "file_extension": ".py",
   "mimetype": "text/x-python",
   "name": "python",
   "nbconvert_exporter": "python",
   "pygments_lexer": "ipython3",
   "version": "3.8.5"
  }
 },
 "nbformat": 4,
 "nbformat_minor": 2
}
