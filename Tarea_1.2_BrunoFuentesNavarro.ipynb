{
 "cells": [
  {
   "cell_type": "markdown",
   "metadata": {},
   "source": [
    "# Tarea - Programación lineal"
   ]
  },
  {
   "cell_type": "markdown",
   "metadata": {},
   "source": [
    "### Diseño de la Dieta Óptima\n",
    "\n",
    "Se quiere producir comida para gatos de la manera más barata, no obstante se debe también asegurar que se cumplan los datos requeridos de analisis nutricional. Por lo que se quiere variar la cantidad de cada ingrediente para cumplir con los estandares nutricionales. Los requisitos que se tienen es que en $100$ gramos, se deben tener **por lo menos** $8$ gramos de proteína y $6$ gramos de grasa. Así mismo, no se debe tener más de $2$ gramos de fibra y $0.4$ gramos de sal.  \n",
    "\n",
    "Los datos nutricionales se pueden obtener de la siguiente tabla:\n",
    "\n",
    "Ingrediente|Proteína|Grasa|Fibra|Sal\n",
    ":----|----|----|----|----\n",
    "Pollo|  10.0%|08.0%|00.1%|00.2%\n",
    "Carne|  20.0%|10.0%|00.5%|00.5%\n",
    "Cordero|15.0%|11.0%|00.5%|00.7%\n",
    "Arroz|  00.0%|01.0%|10.0%|00.2%\n",
    "Trigo|  04.0%|01.0%|15.0%|00.8%\n",
    "Gel|    00.0%|00.0%|00.0%|00.0%\n",
    "\n",
    "Los costos de cada producto son:\n",
    "\n",
    "Ingrediente|Costo por gramo\n",
    ":----|----\n",
    "Pollo|$\\$$0.013\n",
    "Carne|$\\$$0.008\n",
    "Cordero|$\\$$0.010\n",
    "Arroz|$\\$$0.002\n",
    "Trigo|$\\$$0.005\n",
    "Gel|$\\$$0.001    \n",
    "\n",
    "Lo que se busca optimizar en este caso es la cantidad de productos que se debe utilizar en la comida de gato, minimizando el costo total. Para simplificar la notación use las siguientes variables: \n",
    "\n",
    "+ $x_1:$ Gramos de pollo  \n",
    "+ $x_2:$ Gramos de carne  \n",
    "+ $x_3:$ Gramos de cordero  \n",
    "+ $x_4:$ Gramos de arroz  \n",
    "+ $x_5:$ Gramos de trigo  \n",
    "+ $x_6:$ Gramos de gel\n",
    "\n",
    "La tarea consiste en plantear el problemade programación lineal que permita satisfacer las necesidades alimenticias del gato al tiempo que minimice el costo total y resolverlo con `linprog`."
   ]
  },
  {
   "cell_type": "markdown",
   "metadata": {},
   "source": [
    "Minimizar el costo\n",
    "\n",
    "Función objetivo: $\\min_{x_1,\\dots,x_6}0.013x_1+0.008x_2+0.010x_3+0.002x_4+0.005x_5+0.001x_6$\n",
    "\n",
    "Restricciones:\n",
    "$$\\frac{10}{100}x_1+\\frac{20}{100}x_2+\\frac{15}{100}x_3+\\frac{4}{100}x_5\\geq8$$\n",
    "\n",
    "$$\\frac{8}{100}x_1+\\frac{10}{100}x_2+\\frac{11}{100}x_3+\\frac{1}{100}x_4+\\frac{1}{100}x_5\\geq6$$\n",
    "\n",
    "$$\\frac{0.1}{100}x_1+\\frac{0.5}{100}x_2+\\frac{0.5}{100}x_3+\\frac{10}{100}x_4+\\frac{15}{100}x_5\\leq2$$\n",
    "\n",
    "$$\\frac{0.2}{100}x_1+\\frac{0.5}{100}x_2+\\frac{0.7}{100}x_3+\\frac{0.2}{100}x_4+\\frac{0.8}{100}x_5\\leq0.4$$"
   ]
  },
  {
   "cell_type": "code",
   "execution_count": 1,
   "metadata": {},
   "outputs": [],
   "source": [
    "#Se importan las librerias a utilizar\n",
    "import numpy as np\n",
    "import scipy.optimize as opt"
   ]
  },
  {
   "cell_type": "code",
   "execution_count": 2,
   "metadata": {},
   "outputs": [
    {
     "data": {
      "text/plain": [
       "     con: array([0., 0.])\n",
       "     fun: 0.5436435124508519\n",
       " message: 'Optimization terminated successfully.'\n",
       "     nit: 5\n",
       "   slack: array([3.97903014, 0.        ])\n",
       "  status: 0\n",
       " success: True\n",
       "       x: array([ 0.        , 52.77413718,  6.46570555,  0.        , 11.35867191,\n",
       "        0.        ])"
      ]
     },
     "execution_count": 2,
     "metadata": {},
     "output_type": "execute_result"
    }
   ],
   "source": [
    "c=np.array([0.013,0.008,0.010,0.002,0.005,0.001]) #Coeficientes de la función objetivo\n",
    "Aub=np.array([[-0.1,-0.2,-0.15,0,-0.04,0],[-0.08,-0.1,-0.11,-0.01,-0.001,0]]) #Coeficientes de las restricciones del límite >8 y >6\n",
    "bub=np.array([-8,-6]) #Los límites 6 y 8\n",
    "Aeq=np.array([[0.001,0.005,0.005,0.1,0.15,0],[0.002,0.005,0.007,0.002,0.008,0]]) #Los coeficientes de las restricciones de 2 y 0.4\n",
    "beq=np.array([2,0.4]) #Los límites de 2 y 0.4\n",
    "opt.linprog(c,Aub,bub,Aeq,beq,method='simplex')"
   ]
  },
  {
   "cell_type": "markdown",
   "metadata": {},
   "source": [
    "El costo se minimiza a $0.5436 y se requieren los siguientes gramos de cada alimento para satisfacer las necesidades nutricionales del gato:\n",
    "\n",
    "$0 gr$ de pollo\n",
    "\n",
    "$52.7741 gr$ de carne\n",
    "\n",
    "$6.4657 gr$ de cordero\n",
    "\n",
    "$0 gr$ de arroz\n",
    "\n",
    "$11.3586 gr$ de trigo\n",
    "\n",
    "$0 gr$ de gel"
   ]
  },
  {
   "cell_type": "markdown",
   "metadata": {},
   "source": [
    "### Problema de distribución de energía eléctrica\n",
    "\n",
    "La Comisión Federal de Electricidad **(CFE)** dispone de cuatro plantas de generación para satisfacer la demanda diaria eléctrica en cuatro ciudades, Guadalajara, León y Morelia. Las plantas $1$, $2$ y $3$ pueden satisfacer $80$, $40$ y $60$ millones de KW al día respectivamente. Las necesidades de las ciudades de Guadalajara, León y Morelia son de $70$, $40$ y $70$ millones de Kw al día respectivamente. \n",
    "\n",
    "\n",
    "Los costos asociados al envío de suministro energético por cada millón de Kw entre cada planta y cada ciudad son los registrados en la siguiente tabla. \n",
    "\n",
    "-|Guadalajara|León|Morelia\n",
    ":----|----|----|----\n",
    "Planta 1|5|2|7\n",
    "Planta 2|3|6|6\n",
    "Planta 3|6|1|2\n",
    "\n",
    "Y por último, las restricciones del problema, van a estar dadas por las capacidades de oferta y demanda de cada planta (en millones de KW) y cada ciudad.\n",
    "\n",
    "Para simplificar la notación use las siguientes variables:\n",
    "\n",
    "+ $x_1$: Kw (en millones) distribuidos de la Planta 1 a Guadalajara\n",
    "+ $x_2$: Kw (en millones) distribuidos de la Planta 1 a León\n",
    "+ $x_3$: Kw (en millones) distribuidos de la Planta 1 a Morelia\n",
    "+ $x_4$: Kw (en millones) distribuidos de la Planta 2 a Guadalajara\n",
    "+ $x_5$: Kw (en millones) distribuidos de la Planta 2 a León\n",
    "+ $x_6$: Kw (en millones) distribuidos de la Planta 2 a Morelia\n",
    "+ $x_7$: Kw (en millones) distribuidos de la Planta 3 a Guadalajara\n",
    "+ $x_8$: Kw (en millones) distribuidos de la Planta 3 a León\n",
    "+ $x_9$: Kw (en millones) distribuidos de la Planta 3 a Morelia\n",
    "\n",
    "La tarea consiste en plantear el problema de programación lineal que permita satisfacer las necesidades de todas las ciudades al tiempo que minimice los costos asociados a la distribución y resolverlo con `linprog`."
   ]
  },
  {
   "cell_type": "markdown",
   "metadata": {},
   "source": [
    "Minimizar costos\n",
    "\n",
    "Restricciones de oferta por planta:\n",
    "\n",
    "$x_1+x_2+x_3\\leq80$\n",
    "\n",
    "$x_4+x_5+x_6\\leq40$\n",
    "\n",
    "$x_7+x_8,x_9\\leq60$\n",
    "\n",
    "Restricciones de demanda por ciudad:\n",
    "\n",
    "$x_1+x_4+x_7\\geq70$\n",
    "\n",
    "$x_2+x_5+x_8\\geq40$\n",
    "\n",
    "$x_3+x_6+x_9\\geq70$\n",
    "\n",
    "Función objetivo:\n",
    "\n",
    "$$\\min_{x_1,\\dots,x_9}5x_1+2x_2+7x_3+3x_4+6x_5+6x_6+6x_7+x_8+2x_9$$"
   ]
  },
  {
   "cell_type": "code",
   "execution_count": 3,
   "metadata": {},
   "outputs": [
    {
     "data": {
      "text/plain": [
       "     con: array([0., 0., 0.])\n",
       "     fun: 540.0\n",
       " message: 'Optimization terminated successfully.'\n",
       "     nit: 9\n",
       "   slack: array([0., 0., 0.])\n",
       "  status: 0\n",
       " success: True\n",
       "       x: array([30., 40., 10., 40.,  0.,  0.,  0.,  0., 60.])"
      ]
     },
     "execution_count": 3,
     "metadata": {},
     "output_type": "execute_result"
    }
   ],
   "source": [
    "c=np.array([5,2,7,3,6,6,6,1,2]) #Coeficientes de la función objetivo\n",
    "Aub=np.array([[1,1,1,0,0,0,0,0,0],[0,0,0,1,1,1,0,0,0],[0,0,0,0,0,0,1,1,1]]) #Coeficientes de las restricciones de oferta\n",
    "bub=np.array([80,40,60]) #Los límites de oferta\n",
    "Aeq=np.array([[-1,0,0,-1,-0,-0,-0,-0,-0],[-0,-1,-0,-0,-1,0,0,-1,-0],[-0,-0,-1,-0,-0,-1,0,0,-1]]) #Los coeficientes de las restricciones de demanda\n",
    "beq=np.array([-70,-40,-70]) #Los límites de demanda\n",
    "opt.linprog(c,Aub,bub,Aeq,beq,method='simplex')"
   ]
  },
  {
   "cell_type": "markdown",
   "metadata": {},
   "source": [
    "El costo se minimiza a $540 y se logra suministrando:\n",
    "\n",
    "70 kw(en millones) a Guadalajara provenientes de: 30kw de la planta 1 y 40 kw de la planta 2\n",
    "\n",
    "40 kw(en millones) a León provenientes de: la planta 1\n",
    "\n",
    "70 kw(en millones) a Morelia provenientes de: 10 kw de la planta 1 y 60 kw de la planta 3"
   ]
  },
  {
   "cell_type": "code",
   "execution_count": null,
   "metadata": {},
   "outputs": [],
   "source": []
  },
  {
   "cell_type": "code",
   "execution_count": null,
   "metadata": {},
   "outputs": [],
   "source": []
  },
  {
   "cell_type": "code",
   "execution_count": null,
   "metadata": {},
   "outputs": [],
   "source": []
  },
  {
   "cell_type": "code",
   "execution_count": null,
   "metadata": {},
   "outputs": [],
   "source": []
  },
  {
   "cell_type": "code",
   "execution_count": null,
   "metadata": {},
   "outputs": [],
   "source": []
  }
 ],
 "metadata": {
  "kernelspec": {
   "display_name": "Python 3",
   "language": "python",
   "name": "python3"
  },
  "language_info": {
   "codemirror_mode": {
    "name": "ipython",
    "version": 3
   },
   "file_extension": ".py",
   "mimetype": "text/x-python",
   "name": "python",
   "nbconvert_exporter": "python",
   "pygments_lexer": "ipython3",
   "version": "3.8.8"
  }
 },
 "nbformat": 4,
 "nbformat_minor": 2
}
