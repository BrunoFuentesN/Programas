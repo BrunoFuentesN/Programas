{
 "cells": [
  {
   "cell_type": "markdown",
   "id": "ca175990",
   "metadata": {},
   "source": [
    "# Examen Módulo 1 - Optimización.\n",
    "# Bruno Fuentes Navarro    Expediente : IC-709236\n",
    "\n",
    "**Lea cuidadosamente las siguientes indicaciones antes de comenzar el examen:**\n",
    "- Para resolver el examen edite este mismo archivo y renómbrelo de la siguiente manera: *Examen1_ApellidoNombre*, donde *ApellidoNombre* corresponde a su apellido paterno con la inicial en mayúscula, seguido de su primer nombre con la inicial en mayúscula **sin acentos**. Por ejemplo, en mi caso el nombre del archivo sería *Examen1_ArellanoCarlos*.\n",
    "- Resuelva los puntos en el espacio provisto. Si requiere agregar más celdas para código o escritura, hágalo (`Esc`,`B`) o (`Esc`,`A`).\n",
    "- Recuerde que también se está evaluando su capacidad de interpretar los resultados. Escriba sus interpretaciones/conclusiones en celdas utilizando *Markdown*.\n",
    "- El formato de presentación de todo el examen en general debe ser adecuado. Use tamaños de letra, colores, etiquetas, etcétera.\n",
    "- No se resuelven dudas de ningún tipo por los profesores de la asignatura. Por favor, absténgase de preguntar."
   ]
  },
  {
   "cell_type": "markdown",
   "id": "9f7f892e",
   "metadata": {},
   "source": [
    "---\n",
    "# Primer punto. Optimización de funciones con `SymPy` (34 puntos)\n",
    "\n",
    "**Volumen máximo**. Considere un cono circular recto inscrito en una esfera de radio $r$:"
   ]
  },
  {
   "cell_type": "code",
   "execution_count": 1,
   "id": "702f3358",
   "metadata": {},
   "outputs": [
    {
     "data": {
      "image/png": "[encoded data removed]",
      "text/plain": [
       "<Figure size 432x288 with 1 Axes>"
      ]
     },
     "metadata": {
      "needs_background": "light"
     },
     "output_type": "display_data"
    }
   ],
   "source": [
    "import numpy as np\n",
    "import matplotlib.pyplot as plt\n",
    "import matplotlib.patches as patches\n",
    "%matplotlib inline\n",
    "\n",
    "B1 = patches.Arc((0, -0.4), 1.8,0.3,theta2=180,fc='None',ls='--',color='k')\n",
    "B2 = patches.Arc((0, -0.4), 1.8,0.3,theta1=180,fc='None',color='k')\n",
    "C = patches.Circle((0, 0), 1,fc='None',lw=2,color='k');\n",
    "ax = plt.gca()\n",
    "ax.add_artist(B1)\n",
    "ax.add_artist(B2)\n",
    "ax.add_artist(C)\n",
    "\n",
    "plt.plot([0.9,0,-0.9],[-0.4,1,-0.4],'k')\n",
    "plt.plot([0,0],[-0.4,1],'--r')\n",
    "plt.plot([0,0],[-0.4,0],'ok')\n",
    "plt.plot([0,0.9],[0,-0.4],'--r')\n",
    "plt.plot([-0.2,0],[-0.4,-0.4],'--k')\n",
    "plt.plot([-0.2,0],[1,1],'--k')\n",
    "plt.plot([-0.14,-0.14],[-0.4,0.2],'--k')\n",
    "plt.plot([-0.14,-0.14],[0.4,1],'--k')\n",
    "\n",
    "plt.text(-0.18,0.26,'h')\n",
    "plt.text(0.4,-0.1,'$r$')\n",
    "plt.text(0.05,0.4,'$r$')\n",
    "\n",
    "plt.axis([-1.7,1.7,-1.1,1.1])\n",
    "plt.axis('off')\n",
    "plt.show()"
   ]
  },
  {
   "cell_type": "markdown",
   "id": "fc062766",
   "metadata": {},
   "source": [
    "1. Escriba el volumen $V$ del cono como una función de la altura $h$ de éste. Realice este punto usando fórmulas de $\\LaTeX$, en celdas *Markdown*. (14 puntos)\n",
    "2. Determinar el valor de $h$ que maximiza el volumen para un radio $r=2$. (10 puntos)\n",
    "3. ¿Cuál es el volumen máximo del cono? (10 puntos)"
   ]
  },
  {
   "cell_type": "markdown",
   "id": "814f18dc",
   "metadata": {},
   "source": [
    "# Procedimiento(Solución)-PRIMER PUNTO\n",
    "### Primero definimos la funcion del volúmen, la cual es :\n",
    "\n",
    "$$V = \\frac{1}{3}\\pi r^2h$$\n",
    "\n",
    "- A partir del corte transversal de la figura y el teorema de la altura me base para la resolverlo\n",
    "- Ademas se considero el radio como $r = 2$,por lo que el diametro $d=4$\n",
    "\n",
    "### Se forma un triángulo rectángulo que a su vez se divide y da origen a 2 triángulos rectángulos.\n",
    "\n",
    "### La altura($h$) del triángulo cuadrado se define como: la altura($h^2$) al cuadrado la que es igual al producto de sus proyecciones en el plano, lo cual se definiria como:\n",
    "\n",
    " $$d^2 = h(4-h)$$\n",
    " $$d^2 = 4h-h^2$$\n",
    " $$d = \\sqrt(4h-h^2)$$\n",
    "##### Despejamos el diametro.\n",
    "\n",
    "- La altura obtenida es representativa del radio de la base del cono, por lo que:\n",
    "\n",
    "$$r = \\sqrt(4h-h^2)$$\n",
    "\n",
    "- Sustituimos la raíz anterior en la función del volumen, y llegamos a:\n",
    "\n",
    "$$V = \\frac{1}{3} \\pi (\\sqrt(4h-h^2))^2h$$\n",
    "\n",
    "- Desarrollamos la funcion eliminando el cuadrado y el radical mediante el uso del álgebra\n",
    "\n",
    "$$V = \\frac{1}{3} \\pi (4h-h^2)h$$\n",
    "\n",
    "- Se aplica la ley distrubutiva y llegamos a:\n",
    "\n",
    "$$V = \\frac{1}{3} \\pi (4h^2-h^3)$$\n",
    "\n",
    "- ### Al final definimos a la funcion a maximizar, la cual es:\n",
    "\n",
    "$$max V = \\frac{1}{3} \\pi (4h^2-h^3)$$"
   ]
  },
  {
   "cell_type": "code",
   "execution_count": 12,
   "id": "445db069",
   "metadata": {},
   "outputs": [],
   "source": [
    "# Se importan las libererias que se ocupan\n",
    "import numpy as np\n",
    "import sympy as sym\n",
    "import matplotlib.pyplot as plt"
   ]
  },
  {
   "cell_type": "code",
   "execution_count": 13,
   "id": "950fc3f2",
   "metadata": {},
   "outputs": [
    {
     "data": {
      "text/latex": [
       "$\\displaystyle \\frac{\\pi \\left(- h^{3} + 4 h^{2}\\right)}{3}$"
      ],
      "text/plain": [
       "pi*(-h**3 + 4*h**2)/3"
      ]
     },
     "execution_count": 13,
     "metadata": {},
     "output_type": "execute_result"
    }
   ],
   "source": [
    "#Definimos la funcion del volumen\n",
    "sym.var('h')\n",
    "def V(h):\n",
    "    return (sym.pi*(4*h**2-h**3))/3\n",
    "V(h)"
   ]
  },
  {
   "cell_type": "code",
   "execution_count": 14,
   "id": "03ddbd9b",
   "metadata": {},
   "outputs": [
    {
     "data": {
      "text/plain": [
       "[0, 8/3]"
      ]
     },
     "execution_count": 14,
     "metadata": {},
     "output_type": "execute_result"
    }
   ],
   "source": [
    "# Realizamos la derivada en funcion de h y obtenemos los puntos críticos\n",
    "dV=sym.diff(V(h),h)\n",
    "pc=sym.solve(dV,h)\n",
    "pc"
   ]
  },
  {
   "cell_type": "code",
   "execution_count": 15,
   "id": "b4afee1a",
   "metadata": {},
   "outputs": [
    {
     "data": {
      "text/latex": [
       "$\\displaystyle \\frac{\\pi \\left(8 - 6 h\\right)}{3}$"
      ],
      "text/plain": [
       "pi*(8 - 6*h)/3"
      ]
     },
     "execution_count": 15,
     "metadata": {},
     "output_type": "execute_result"
    }
   ],
   "source": [
    "# Obtenemos la segunda derivada de la funcion 'V(h)'\n",
    "ddV=sym.diff(dV,h)\n",
    "ddV"
   ]
  },
  {
   "cell_type": "code",
   "execution_count": 16,
   "id": "48c8f04a",
   "metadata": {},
   "outputs": [
    {
     "data": {
      "text/latex": [
       "$\\displaystyle - \\frac{8 \\pi}{3}$"
      ],
      "text/plain": [
       "-8*pi/3"
      ]
     },
     "execution_count": 16,
     "metadata": {},
     "output_type": "execute_result"
    }
   ],
   "source": [
    "# Evaluamos la segunda derivada en el punto critico(pc[1])\n",
    "ddV.subs(h,pc[1])"
   ]
  },
  {
   "cell_type": "markdown",
   "id": "5cd26149",
   "metadata": {},
   "source": [
    "Ya que el resultado de la evaluacion fue  $<0$ se trata de un máximo relativo."
   ]
  },
  {
   "cell_type": "code",
   "execution_count": 20,
   "id": "2f93720d",
   "metadata": {},
   "outputs": [
    {
     "data": {
      "image/png": "[encoded data removed]",
      "text/plain": [
       "<Figure size 432x288 with 1 Axes>"
      ]
     },
     "metadata": {
      "needs_background": "light"
     },
     "output_type": "display_data"
    }
   ],
   "source": [
    "# Gráficamos la función de (0,3)\n",
    "xn=np.linspace(0,3,100)\n",
    "y=V(xn)\n",
    "plt.plot(xn,y)\n",
    "plt.plot(pc[1],V(pc[1]),'*',ms=10)\n",
    "plt.grid()"
   ]
  },
  {
   "cell_type": "code",
   "execution_count": 21,
   "id": "1204ef99",
   "metadata": {},
   "outputs": [
    {
     "data": {
      "text/latex": [
       "$\\displaystyle \\frac{8}{3}$"
      ],
      "text/plain": [
       "8/3"
      ]
     },
     "execution_count": 21,
     "metadata": {},
     "output_type": "execute_result"
    }
   ],
   "source": [
    "#El punto critico(pc)\n",
    "pc[1]"
   ]
  },
  {
   "cell_type": "code",
   "execution_count": 22,
   "id": "8b9bb2db",
   "metadata": {},
   "outputs": [
    {
     "data": {
      "text/latex": [
       "$\\displaystyle \\frac{256 \\pi}{81}$"
      ],
      "text/plain": [
       "256*pi/81"
      ]
     },
     "execution_count": 22,
     "metadata": {},
     "output_type": "execute_result"
    }
   ],
   "source": [
    "#Evaluamos la funcion V(h) en pc[1], y obtenemos lo siguiente:\n",
    "V(pc[1])"
   ]
  },
  {
   "cell_type": "markdown",
   "id": "ad3a3eda",
   "metadata": {},
   "source": [
    "- Por lo tanto deducimos que el volumen maximo del cono es:\n",
    "\n",
    "$ 256\\pi / 81 $\n",
    "\n",
    "- La altura para obtener dicho maximo es la siguiente:\n",
    "\n",
    "$8/3$"
   ]
  },
  {
   "cell_type": "markdown",
   "id": "71b7e1ec",
   "metadata": {},
   "source": [
    "---\n",
    "# Segundo punto. Programación lineal (34 puntos)\n",
    "\n",
    "Una compañia de aceros produce dos tamaños de tubos: A, B que son vendidos, respectivamente en 10u.m. y 9u.m. por metro. Para fabricar cada metro del tubo A se requieren 0.5 minutos de tiempo de procesamiento sobre un tipo particular de maquina de modelado y cada metro del tubo B requiere 0.6 minutos. Después de la producción, cada metro de tubo, sin importar el tipo requiere 1 onza de material de soldar. El costo total se estima en 3u.m. y 4u.m. por metro de los tubos respectivamente. Para la siguiente semana, la compañía ha recibido pedidos excepcionalmente grandes que totalizan 2000 metros del tubo A y 5000 metros del tubo B. como solo se dispone de 30 horas de tiempo de maquina esta semana y solo se tienen en inventario 3500 onzas de material de soldar, el departamento de producción no podrá satisfacer esta demanda. Como no se espera que continúe esta demanda tan alta, la gerencia esta considerando la compra de algunos de estos tubos a proveedores de Japón a un costo de entrega de 6u.m. por metro del tubo A y 7u.m. por metro del tubo B.\n",
    "\n",
    "Se desea conocer la cantidad de producción de cada tipo de tubo y la cantidad de compra a Japón para satisfacer la demanda y **maximizar** las ganancias de la compañía (esto es, precio de venta menos costos). La siguiente tabla presenta la información correspondiente.\n",
    "\n",
    "<table>\n",
    "  <tr>\n",
    "      <th>Tubo</th>\n",
    "      <th>Precio de venta</th>\n",
    "      <th>Demanda</th>\n",
    "      <th>Tiempo de máquina</th>\n",
    "      <th>Material para soldar</th>\n",
    "      <th>Costo de producción</th>\n",
    "      <th>Costo de compra</th>\n",
    "  </tr>\n",
    "  <tr>\n",
    "      <th>Tipo A</th>\n",
    "      <td>10</td>\n",
    "      <td>2000</td>\n",
    "      <td>0.5 min</td>\n",
    "      <td>1 oz/m</td>\n",
    "      <td>3</td>\n",
    "      <td>6</td>\n",
    "  </tr>\n",
    "  <tr style=\"border-bottom: 1px solid #000;\">\n",
    "      <th>Tipo B</th>\n",
    "      <td>9</td>\n",
    "      <td>5000</td>\n",
    "      <td>0.6 min</td>\n",
    "      <td>1 oz/m</td>\n",
    "      <td>4</td>\n",
    "      <td>7</td>\n",
    "  </tr>\n",
    "  <tr>\n",
    "      <td>Disponibilidad</td>\n",
    "      <td></td>\n",
    "      <td></td>\n",
    "      <td>30 horas</td>\n",
    "      <td>3500 oz</td>\n",
    "      <td></td>\n",
    "      <td></td>\n",
    "  </tr>\n",
    "</table>\n",
    "\n",
    "1. Escriba la función a **minimizar** junto con las restricciones, explicando detalladamente cada paso (usando fórmulas en $\\LaTeX$, en celdas Markdown). Además escriba el problema en la forma \\begin{equation}\n",
    "\\begin{array}{ll}\n",
    "\\min_{\\boldsymbol{x}} & \\boldsymbol{c}^T\\boldsymbol{x} \\\\\n",
    "\\text{s. a. }        & \\boldsymbol{A}_{eq}\\boldsymbol{x}=\\boldsymbol{b}_{eq} \\\\\n",
    "                     & \\boldsymbol{A}\\boldsymbol{x}\\leq\\boldsymbol{b},\n",
    "\\end{array}\\qquad\\text{(24 puntos)}\n",
    "\\end{equation}\n",
    "2. Resuelva el problema utilizando la función `linprog`. ¿Cuántos tubos de cada tipo se deben producir?, ¿Cuántos se deben comprar?, ¿Cuál es la ganancia? (10 puntos)"
   ]
  },
  {
   "cell_type": "markdown",
   "id": "e0b95ad9",
   "metadata": {},
   "source": [
    "\n",
    "### **Primeramente definimos las variables para discretizar el problema**\n",
    "\n",
    "+ $x_a$ = Metros del tubo A que se deben producir\n",
    "\n",
    "+ $y_a$ = Metros del tubo A que se deben comprar\n",
    "\n",
    "+ $x_b$ = Metros del tubo B que se deben producir\n",
    "\n",
    "+ $y_b$ = Metros del tubo B que se deben comprar\n",
    "\n",
    "### **Establecemos las condiciones de frontera(Restricciones)**\n",
    "\n",
    "+ $0.5x_a + 0.6x_b\\leq1800$ (Tiempo con el que se dispone en minutos)\n",
    "\n",
    "+ $x_a + x_b \\leq3500$ (Material para soldar con el que se cuenta)\n",
    "\n",
    "+ $x_a + y_a = 2000$ (Metros requeridos del tubo A)\n",
    "\n",
    "+ $x_b + y_b = 5000$ (Metros requeridos del tubo B)\n",
    "\n",
    "### **Establecemos la funcion que queremos maximizar**\n",
    "\n",
    "+ #### **Buscamos maximizar la ganancia en funcion de los tubos que se producen y los comprados, a manera que el precio de venta se le sustrae el costo**\n",
    "\n",
    "$max 7x_a+5x_b+4y_a+2y_b$\n",
    "\n",
    "#### **Establecemos la funcion a minimizar ya que igual es requerida**\n",
    "\n",
    "+ Se busca minimizar el costo de compra en Japón\n",
    "\n",
    "$min 6y_a+7y_b$"
   ]
  },
  {
   "cell_type": "code",
   "execution_count": 83,
   "id": "c95a103a",
   "metadata": {},
   "outputs": [],
   "source": [
    "#Importamos las librerias que se ocupan\n",
    "import numpy as np\n",
    "import matplotlib.pyplot as plt\n",
    "import sympy as sym\n",
    "import scipy.optimize as opt"
   ]
  },
  {
   "cell_type": "code",
   "execution_count": 26,
   "id": "c823c10c",
   "metadata": {},
   "outputs": [
    {
     "data": {
      "text/plain": [
       "     con: array([0., 0.])\n",
       "     fun: -26666.666666666664\n",
       " message: 'Optimization terminated successfully.'\n",
       "     nit: 5\n",
       "   slack: array([  0.        , 166.66666667])\n",
       "  status: 0\n",
       " success: True\n",
       "       x: array([2000.        ,    0.        , 1333.33333333, 3666.66666667])"
      ]
     },
     "execution_count": 26,
     "metadata": {},
     "output_type": "execute_result"
    }
   ],
   "source": [
    "# Coeficientes de función objetivo\n",
    "c=-np.array([7,5,4,2]) \n",
    "\n",
    "Aub=np.array([[0.5,0,0.6,0],                # Restrcciónes de tiempo disponible de maquina             \n",
    "              [1,0,1,0]])                   # Restricciónes de material para soldar\n",
    "# Coeficientes de los límites de las restricciones\n",
    "bub=np.array([1800,3500])                  \n",
    "# Coeficientes de igualdad\n",
    "Aeq=([[1,1,0,0],[0,0,1,1]]) \n",
    "#coeficiente de igualdad\n",
    "beq=([2000,5000]) \n",
    "#Usamos opt.linprog con el metodo 'simplex'\n",
    "opt.linprog(c,Aub,bub,Aeq,beq,method='simplex')"
   ]
  },
  {
   "cell_type": "markdown",
   "id": "14828519",
   "metadata": {},
   "source": [
    "### **Obtuvimos un beneficio neto de  $26,666.67 u.m$ mediante la siguiente estrategia:**\n",
    "\n",
    "+ Se deberan producir Producir $2000$ metros del **'tubo A'**\n",
    "\n",
    "+ No se deberá comprar ningun metro **'tubo A'** a Japón\n",
    "\n",
    "+ Se deberá producir $1333$ metros del **'tubo B'**\n",
    "\n",
    "+ Se deberá comprar $3667$ metros del **'tubo B'** a Japón\n",
    "\n",
    "Siguiento esto optimizaríamos la producción en la compañia."
   ]
  },
  {
   "cell_type": "markdown",
   "id": "1df3ad6d",
   "metadata": {},
   "source": [
    "---\n",
    "# Tercer punto. Ajuste de curvas (32 puntos)\n",
    "Los siguientes datos extraidos de Administrative Office of the U.S. Courts, representan el número de bancarrotas en cientos de miles entre los años 1988 y 2001."
   ]
  },
  {
   "cell_type": "code",
   "execution_count": 221,
   "id": "4b53d279",
   "metadata": {},
   "outputs": [],
   "source": [
    "y = np.array([5.946,6.430,7.255,8.804,9.725,9.187,8.453,8.581,\n",
    "              10.421,13.170,14.295,13.920,12.770,13.866])\n",
    "x = np.arange(8,22)"
   ]
  },
  {
   "cell_type": "markdown",
   "id": "a8804e69",
   "metadata": {},
   "source": [
    "1. Ajuste las bancarrotas con polinomios de grado 1, 3 y 5. Muestre los errores de forma gráfica, ¿Qué polinómio se ajusta mejor? (22 puntos)\n",
    "2. Muestre en un gráfico los datos y el polinómio que mejor se ajuste (5 puntos)\n",
    "3. Usar el modelo para averiguar el número de bancarrotas a mediados de 1998 (es decir en 1998.5) y predecirlo para el año 2011. ¿Qué diferencias encuentra en cuanto a la interpolación y la extrapolación? (5 puntos)"
   ]
  },
  {
   "cell_type": "code",
   "execution_count": 222,
   "id": "ba6c8038",
   "metadata": {},
   "outputs": [
    {
     "data": {
      "image/png": "[encoded data removed]",
      "text/plain": [
       "<Figure size 432x288 with 1 Axes>"
      ]
     },
     "metadata": {
      "needs_background": "light"
     },
     "output_type": "display_data"
    }
   ],
   "source": [
    "#Graficamos los arreglos de datos inicialmente\n",
    "x=np.linspace(8,22,14)\n",
    "y=y\n",
    "plt.scatter(x,y,c='b',s=8)\n",
    "plt.grid()"
   ]
  },
  {
   "cell_type": "code",
   "execution_count": 223,
   "id": "4c936665",
   "metadata": {},
   "outputs": [],
   "source": [
    "# Se define la funcion para poder establecer los polinomios grados n+1 y usamos numpy.dot() para el producto punto.\n",
    "def f(beta,x,n):\n",
    "    X=[x**i for i in range(n+1)]\n",
    "    return np.dot(beta,X)"
   ]
  },
  {
   "cell_type": "code",
   "execution_count": 224,
   "id": "7f1992db",
   "metadata": {},
   "outputs": [],
   "source": [
    "# Se utiliza el criterio de minimos cuadrados\n",
    "def fun(beta,x,y,n):\n",
    "    return np.sum((y-f(beta,x,n))**2)"
   ]
  },
  {
   "cell_type": "code",
   "execution_count": 225,
   "id": "3238e3d8",
   "metadata": {},
   "outputs": [],
   "source": [
    "# Definimos el polinomio de grado 1\n",
    "n=1\n",
    "beta0=np.random.rand(n+1)\n",
    "sol1=opt.minimize(fun,beta0,args=(x,y,n))\n",
    "\n",
    "# Definimos el polinomio de grado 3\n",
    "n=3\n",
    "beta0=np.random.rand(n+1)\n",
    "sol3=opt.minimize(fun,beta0,args=(x,y,n))\n",
    "\n",
    "# Definimos el polinomio de grado 5\n",
    "n=5\n",
    "beta0=np.random.rand(n+1)\n",
    "sol5=opt.minimize(fun,beta0,args=(x,y,n))\n"
   ]
  },
  {
   "cell_type": "code",
   "execution_count": 226,
   "id": "d014b469",
   "metadata": {},
   "outputs": [
    {
     "data": {
      "text/plain": [
       "      fun: 15.56747628132118\n",
       " hess_inv: array([[ 0.46209937, -0.02842567],\n",
       "       [-0.02842567,  0.00189504]])\n",
       "      jac: array([3.57627869e-07, 4.76837158e-07])\n",
       "  message: 'Optimization terminated successfully.'\n",
       "     nfev: 24\n",
       "      nit: 4\n",
       "     njev: 8\n",
       "   status: 0\n",
       "  success: True\n",
       "        x: array([1.25745044, 0.59627949])"
      ]
     },
     "execution_count": 226,
     "metadata": {},
     "output_type": "execute_result"
    }
   ],
   "source": [
    "# Desplegamos la primer solucion con polinomio grado 1\n",
    "sol1"
   ]
  },
  {
   "cell_type": "code",
   "execution_count": 227,
   "id": "ae9c0b34",
   "metadata": {},
   "outputs": [
    {
     "data": {
      "text/plain": [
       "      fun: 15.20126980335591\n",
       " hess_inv: array([[ 9.06043682e-03, -6.87825291e-06,  6.25052917e-04,\n",
       "        -3.92967284e-05],\n",
       "       [-6.87825291e-06,  9.91080400e-09, -4.81475965e-07,\n",
       "         2.89845165e-08],\n",
       "       [ 6.25052917e-04, -4.81475965e-07,  4.31310827e-05,\n",
       "        -2.70996055e-06],\n",
       "       [-3.92967284e-05,  2.89845165e-08, -2.70996055e-06,\n",
       "         1.71517160e-07]])\n",
       "      jac: array([ 1.19209290e-07, -7.15255737e-07,  1.54972076e-06,  1.16586685e-04])\n",
       "  message: 'Desired error not necessarily achieved due to precision loss.'\n",
       "     nfev: 145\n",
       "      nit: 19\n",
       "     njev: 29\n",
       "   status: 2\n",
       "  success: False\n",
       "        x: array([ 8.83689323e+00, -1.09661341e+00,  1.18721927e-01, -2.63692438e-03])"
      ]
     },
     "execution_count": 227,
     "metadata": {},
     "output_type": "execute_result"
    }
   ],
   "source": [
    "# Desplegamos la segunda solucion con polinomio grado 3\n",
    "sol3"
   ]
  },
  {
   "cell_type": "code",
   "execution_count": 228,
   "id": "cc144c3f",
   "metadata": {},
   "outputs": [
    {
     "data": {
      "text/plain": [
       "      fun: 773.4573708906192\n",
       " hess_inv: array([[ 9.99991382e-01, -7.43341429e-05, -5.56238447e-04,\n",
       "        -2.86908395e-03,  2.67104129e-04, -6.38333094e-06],\n",
       "       [-7.43341429e-05,  9.99358754e-01, -4.79939863e-03,\n",
       "        -2.47710676e-02,  2.05272388e-03, -4.61058605e-05],\n",
       "       [-5.56238447e-04, -4.79939863e-03,  9.64063779e-01,\n",
       "        -1.85716597e-01,  1.14775071e-02, -2.29118405e-04],\n",
       "       [-2.86908395e-03, -2.47710676e-02, -1.85716597e-01,\n",
       "         3.64477819e-02, -2.26629499e-03,  4.53771653e-05],\n",
       "       [ 2.67104129e-04,  2.05272388e-03,  1.14775071e-02,\n",
       "        -2.26629499e-03,  1.41196763e-04, -2.82991751e-06],\n",
       "       [-6.38333094e-06, -4.61058605e-05, -2.29118405e-04,\n",
       "         4.53771653e-05, -2.82991751e-06,  5.67462682e-08]])\n",
       "      jac: array([1.17091614e+02, 1.54009936e+03, 1.98377119e+04, 2.35231602e+05,\n",
       "       2.16375810e+06, 1.75758689e+06])\n",
       "  message: 'Desired error not necessarily achieved due to precision loss.'\n",
       "     nfev: 404\n",
       "      nit: 3\n",
       "     njev: 56\n",
       "   status: 2\n",
       "  success: False\n",
       "        x: array([ 9.28691079e-01,  9.75402525e-01,  2.58531171e-01, -6.48618909e-02,\n",
       "        5.19900984e-03, -1.31025678e-04])"
      ]
     },
     "execution_count": 228,
     "metadata": {},
     "output_type": "execute_result"
    }
   ],
   "source": [
    "# Desplegamos la tercera solucion con polinomio grado 5\n",
    "sol5"
   ]
  },
  {
   "cell_type": "code",
   "execution_count": 229,
   "id": "bf927007",
   "metadata": {},
   "outputs": [],
   "source": [
    "# Agreagamos las diferentes soluciones en el vector sol[n] y creamos sol[i]\n",
    "sol=[0,0,0,0,0] \n",
    "for i in range(5):\n",
    "    beta0=np.random.rand(i+2)\n",
    "    sol[i]=opt.minimize(fun,beta0,args=(x,y,i+1))"
   ]
  },
  {
   "cell_type": "code",
   "execution_count": 230,
   "id": "a2a4c018",
   "metadata": {},
   "outputs": [
    {
     "data": {
      "text/plain": [
       "(15.567476281318807, 15.201269804172341, 19.839065229326373)"
      ]
     },
     "execution_count": 230,
     "metadata": {},
     "output_type": "execute_result"
    }
   ],
   "source": [
    "sol[0].fun,sol[2].fun,sol[4].fun"
   ]
  },
  {
   "cell_type": "code",
   "execution_count": 231,
   "id": "33d8f7a8",
   "metadata": {},
   "outputs": [
    {
     "data": {
      "image/png": "[encoded data removed]",
      "text/plain": [
       "<Figure size 432x288 with 1 Axes>"
      ]
     },
     "metadata": {
      "needs_background": "light"
     },
     "output_type": "display_data"
    }
   ],
   "source": [
    "# Graficamos el error cuadrático acumulado de 1 a 5\n",
    "\n",
    "for i in range(5):\n",
    "    plt.plot(i+1,sol[i].fun,'ob')\n",
    "plt.xlabel('Grado del Polinomio')\n",
    "plt.ylabel('Error Cuadrático Acumulado')\n",
    "plt.grid()"
   ]
  },
  {
   "cell_type": "code",
   "execution_count": 232,
   "id": "6ec5db0e",
   "metadata": {},
   "outputs": [
    {
     "name": "stdout",
     "output_type": "stream",
     "text": [
      "[1.25744908 0.59627958]\n",
      "[1.26988924e+00 5.94469374e-01 6.03372732e-05]\n",
      "[ 8.83689381e+00 -1.09661354e+00  1.18721935e-01 -2.63692454e-03]\n",
      "[-1.46487563e+02  4.55777496e+01 -4.91707744e+00  2.29362265e-01\n",
      " -3.86665425e-03]\n",
      "[ 9.10303537e-01  1.11671663e-01  3.35766470e-01 -5.75981258e-02\n",
      "  3.61492184e-03 -7.51380355e-05]\n"
     ]
    }
   ],
   "source": [
    "# Agreamos a un vector solucion las soluciones de 1 a 5\n",
    "for i in range(5):\n",
    "    print(sol[i].x)"
   ]
  },
  {
   "cell_type": "markdown",
   "id": "dccda5c7",
   "metadata": {},
   "source": [
    "### **Podemos deducir que el polinomio grado 3 es el que tiene menor error en el ajuste.**"
   ]
  },
  {
   "cell_type": "markdown",
   "id": "261bc4f2",
   "metadata": {},
   "source": [
    "---\n",
    "### Gráficamos los 3 Polinomios "
   ]
  },
  {
   "cell_type": "code",
   "execution_count": 233,
   "id": "9cf6cc9e",
   "metadata": {},
   "outputs": [
    {
     "data": {
      "image/png": "[encoded data removed]",
      "text/plain": [
       "<Figure size 432x288 with 1 Axes>"
      ]
     },
     "metadata": {
      "needs_background": "light"
     },
     "output_type": "display_data"
    }
   ],
   "source": [
    "# Gráfica de los polinomios\n",
    "plt.scatter(x,y,s=3,c='k')\n",
    "for i in range(5):\n",
    "    plt.plot(x,f(sol[i].x,x,i+1),label='Polinomio grado'+str(i+1))\n",
    "plt.legend(loc='best')\n",
    "plt.grid()"
   ]
  },
  {
   "cell_type": "code",
   "execution_count": 234,
   "id": "087e45d0",
   "metadata": {},
   "outputs": [
    {
     "data": {
      "image/png": "[encoded data removed]",
      "text/plain": [
       "<Figure size 432x288 with 1 Axes>"
      ]
     },
     "metadata": {
      "needs_background": "light"
     },
     "output_type": "display_data"
    }
   ],
   "source": [
    "# Graficamos los polinomios grado 1,3 y 5.\n",
    "plt.scatter(x,y,s=3,c='k')\n",
    "plt.plot(x,f(sol[0].x,x,1),label='Polinomio Grado'+str(1))\n",
    "plt.plot(x,f(sol[2].x,x,3),label='Polinomio Grado'+str(3))\n",
    "plt.plot(x,f(sol[4].x,x,5),label='Polinomio Grado'+str(5))\n",
    "plt.legend(loc='best')\n",
    "plt.grid()"
   ]
  },
  {
   "cell_type": "markdown",
   "id": "73b8d9ba",
   "metadata": {},
   "source": [
    "# Vemos que la Grafica del polinomio grado 3 es la de mejor ajuste"
   ]
  },
  {
   "cell_type": "code",
   "execution_count": 238,
   "id": "c3869db8",
   "metadata": {},
   "outputs": [
    {
     "data": {
      "image/png": "[encoded data removed]",
      "text/plain": [
       "<Figure size 432x288 with 1 Axes>"
      ]
     },
     "metadata": {
      "needs_background": "light"
     },
     "output_type": "display_data"
    }
   ],
   "source": [
    "# Graficamos el polinomio grado 3\n",
    "plt.scatter(x,y,s=8)\n",
    "f= sol3.x[0]+sol3.x[1]*x+sol3.x[2]*x**2+sol3.x[3]*x**3\n",
    "plt.plot(x,f,'g')\n",
    "plt.grid()"
   ]
  },
  {
   "cell_type": "markdown",
   "id": "4c4c11eb",
   "metadata": {},
   "source": [
    "--- \n",
    "## Buscamos el numero de bancarrotas a mediados de 1998(1998.5) y para 2011"
   ]
  },
  {
   "cell_type": "code",
   "execution_count": 235,
   "id": "0a8450f3",
   "metadata": {},
   "outputs": [
    {
     "name": "stdout",
     "output_type": "stream",
     "text": [
      "7.518384669826894\n",
      "7.518469849522162\n",
      "7.35897526007685\n",
      "8.487087788469807\n",
      "6.773950925167512\n"
     ]
    }
   ],
   "source": [
    "a=1998.5-1988\n",
    "for i in range(5):\n",
    "    print(f(sol[i].x,a,i+1))"
   ]
  },
  {
   "cell_type": "markdown",
   "id": "585aeb49",
   "metadata": {},
   "source": [
    "##### Si usamos este modelo para estimar las bancarrotas a mediados de 1998 con polinomios grado(1-5) y utilizando solo polinomios de grado 1,3 y 5(en base al polinomio grado 3 este nos muestra que hay 7.3589... bancarrotas) "
   ]
  },
  {
   "cell_type": "code",
   "execution_count": 236,
   "id": "4fe66020",
   "metadata": {},
   "outputs": [
    {
     "name": "stdout",
     "output_type": "stream",
     "text": [
      "14.971879417388868\n",
      "14.974603257466155\n",
      "14.33522526683769\n",
      "9.268994392070454\n",
      "8.291992674121275\n"
     ]
    }
   ],
   "source": [
    "a=2011-1988\n",
    "for i in range(5):\n",
    "    print(f(sol[i].x,a,i+1))"
   ]
  },
  {
   "cell_type": "markdown",
   "id": "1369aeab",
   "metadata": {},
   "source": [
    "##### Si comparamos las bancarrotas de 1998 con el valor de 14.29 y las de 1999 con 13.920 vemos un gran cesgo o diferencia\n",
    "\n",
    "\n",
    "##### Si usamos el modelo para predecir bancarrotas en 2011 con polinomios (1-5) y utilizando solo los polinomios 1,3 y 5. El polinomio 3 es el de menos error por lo que usamos ese y nos predice 14.33 bancarrotas"
   ]
  },
  {
   "cell_type": "markdown",
   "id": "91411689",
   "metadata": {},
   "source": [
    "---\n",
    "¿Qué diferencias encuentro en cuanto a la interpolación y la extrapolación?"
   ]
  },
  {
   "cell_type": "markdown",
   "id": "add5ea1f",
   "metadata": {},
   "source": [
    "##### En la interpolacion se da un valor en un rango de valores ya conocidos, en la extrapolacion se da un valor fuera de ese rango conocido\n"
   ]
  }
 ],
 "metadata": {
  "kernelspec": {
   "display_name": "Python 3",
   "language": "python",
   "name": "python3"
  },
  "language_info": {
   "codemirror_mode": {
    "name": "ipython",
    "version": 3
   },
   "file_extension": ".py",
   "mimetype": "text/x-python",
   "name": "python",
   "nbconvert_exporter": "python",
   "pygments_lexer": "ipython3",
   "version": "3.8.8"
  }
 },
 "nbformat": 4,
 "nbformat_minor": 5
}
