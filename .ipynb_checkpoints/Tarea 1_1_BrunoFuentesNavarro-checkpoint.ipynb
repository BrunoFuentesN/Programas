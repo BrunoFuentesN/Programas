{
 "cells": [
  {
   "cell_type": "markdown",
   "metadata": {
    "colab_type": "text",
    "id": "PedPDtG9ESjJ"
   },
   "source": [
    "# Tarea. Optimización de funciones escalares"
   ]
  },
  {
   "cell_type": "markdown",
   "metadata": {
    "colab_type": "text",
    "id": "I1rmrSnYElMl"
   },
   "source": [
    "1. Encuntre el punto crítico de cada $f(x)$, grafique y diga si éste es máximo o mínimo:"
   ]
  },
  {
   "cell_type": "markdown",
   "metadata": {
    "colab_type": "text",
    "id": "rZsQPEsnE-b9"
   },
   "source": [
    "1.1 $f(x)=x+\\frac{1}{x^2}$"
   ]
  },
  {
   "cell_type": "code",
   "execution_count": 109,
   "metadata": {
    "colab": {},
    "colab_type": "code",
    "id": "BnSeOKFZEIpZ"
   },
   "outputs": [
    {
     "data": {
      "text/latex": [
       "$\\displaystyle x$"
      ],
      "text/plain": [
       "x"
      ]
     },
     "execution_count": 109,
     "metadata": {},
     "output_type": "execute_result"
    }
   ],
   "source": [
    "import numpy as np\n",
    "import sympy as sym\n",
    "import matplotlib.pyplot as plt\n",
    "import math\n",
    "from numpy import sqrt\n",
    "sym.var(\"x\") #Definimos la variable 'x'"
   ]
  },
  {
   "cell_type": "code",
   "execution_count": 27,
   "metadata": {},
   "outputs": [
    {
     "data": {
      "text/plain": [
       "(x + x**(-2), 2.0)"
      ]
     },
     "execution_count": 27,
     "metadata": {},
     "output_type": "execute_result"
    }
   ],
   "source": [
    "def f(x):\n",
    "    return x+(1/x**2)\n",
    "f(x),f(1)\n",
    "#Se define la funcion para poder manipularla posteriormente de forma simbolica, ya que se definio 'x'\n",
    "#como variable simbolica anteriormente"
   ]
  },
  {
   "cell_type": "code",
   "execution_count": 28,
   "metadata": {},
   "outputs": [
    {
     "data": {
      "text/latex": [
       "$\\displaystyle 1 - \\frac{2}{x^{3}}$"
      ],
      "text/plain": [
       "1 - 2/x**3"
      ]
     },
     "execution_count": 28,
     "metadata": {},
     "output_type": "execute_result"
    }
   ],
   "source": [
    "df=sym.diff(f(x),x) #Derivamos a f(x) con respecto a 'x'\n",
    "df"
   ]
  },
  {
   "cell_type": "code",
   "execution_count": 29,
   "metadata": {},
   "outputs": [
    {
     "data": {
      "text/plain": [
       "[2**(1/3),\n",
       " -2**(1/3)/2 - 2**(1/3)*sqrt(3)*I/2,\n",
       " -2**(1/3)/2 + 2**(1/3)*sqrt(3)*I/2]"
      ]
     },
     "execution_count": 29,
     "metadata": {},
     "output_type": "execute_result"
    }
   ],
   "source": [
    "pc=sym.solve(df,x) #Encontramos la solucion de df=0 con respecto de 'x'\n",
    "pc #Obtenemos los puntos criticos"
   ]
  },
  {
   "cell_type": "code",
   "execution_count": 30,
   "metadata": {},
   "outputs": [
    {
     "data": {
      "text/latex": [
       "$\\displaystyle \\sqrt[3]{2}$"
      ],
      "text/plain": [
       "2**(1/3)"
      ]
     },
     "execution_count": 30,
     "metadata": {},
     "output_type": "execute_result"
    }
   ],
   "source": [
    "pc[0] #La posicion [0] en 'pc'"
   ]
  },
  {
   "cell_type": "code",
   "execution_count": 31,
   "metadata": {},
   "outputs": [
    {
     "data": {
      "text/latex": [
       "$\\displaystyle \\frac{3 \\sqrt[3]{2}}{2}$"
      ],
      "text/plain": [
       "3*2**(1/3)/2"
      ]
     },
     "execution_count": 31,
     "metadata": {},
     "output_type": "execute_result"
    }
   ],
   "source": [
    "f(pc[0]) # Evaluamos f(x) con x=pc[0], es decir, la posición 0 en 'pc'"
   ]
  },
  {
   "cell_type": "code",
   "execution_count": 32,
   "metadata": {},
   "outputs": [
    {
     "data": {
      "image/png": "[encoded data removed]",
      "text/plain": [
       "<Figure size 432x288 with 1 Axes>"
      ]
     },
     "metadata": {
      "needs_background": "light"
     },
     "output_type": "display_data"
    }
   ],
   "source": [
    "xn=np.linspace(-5,5,100)\n",
    "y=f(xn)\n",
    "plt.plot(xn,y)\n",
    "plt.plot(pc[0],f(pc[0]),'dr',ms=10)\n",
    "plt.grid()"
   ]
  },
  {
   "cell_type": "code",
   "execution_count": 33,
   "metadata": {},
   "outputs": [
    {
     "data": {
      "text/plain": [
       "(5.04, -4.96)"
      ]
     },
     "execution_count": 33,
     "metadata": {},
     "output_type": "execute_result"
    }
   ],
   "source": [
    "f(5),f(-5) #Se evalua la funcion en sus extremos y en los puntos criticos"
   ]
  },
  {
   "cell_type": "code",
   "execution_count": 34,
   "metadata": {},
   "outputs": [
    {
     "data": {
      "text/latex": [
       "$\\displaystyle \\frac{3 \\sqrt[3]{2}}{2}$"
      ],
      "text/plain": [
       "3*2**(1/3)/2"
      ]
     },
     "execution_count": 34,
     "metadata": {},
     "output_type": "execute_result"
    }
   ],
   "source": [
    "f(pc[0])"
   ]
  },
  {
   "cell_type": "code",
   "execution_count": 35,
   "metadata": {},
   "outputs": [
    {
     "data": {
      "text/latex": [
       "$\\displaystyle - \\frac{\\sqrt[3]{2}}{2} - \\frac{\\sqrt[3]{2} \\sqrt{3} i}{2} + \\frac{1}{\\left(- \\frac{\\sqrt[3]{2}}{2} - \\frac{\\sqrt[3]{2} \\sqrt{3} i}{2}\\right)^{2}}$"
      ],
      "text/plain": [
       "-2**(1/3)/2 - 2**(1/3)*sqrt(3)*I/2 + (-2**(1/3)/2 - 2**(1/3)*sqrt(3)*I/2)**(-2)"
      ]
     },
     "execution_count": 35,
     "metadata": {},
     "output_type": "execute_result"
    }
   ],
   "source": [
    "f(pc[1])"
   ]
  },
  {
   "cell_type": "code",
   "execution_count": 36,
   "metadata": {},
   "outputs": [
    {
     "data": {
      "text/latex": [
       "$\\displaystyle - \\frac{\\sqrt[3]{2}}{2} + \\frac{1}{\\left(- \\frac{\\sqrt[3]{2}}{2} + \\frac{\\sqrt[3]{2} \\sqrt{3} i}{2}\\right)^{2}} + \\frac{\\sqrt[3]{2} \\sqrt{3} i}{2}$"
      ],
      "text/plain": [
       "-2**(1/3)/2 + (-2**(1/3)/2 + 2**(1/3)*sqrt(3)*I/2)**(-2) + 2**(1/3)*sqrt(3)*I/2"
      ]
     },
     "execution_count": 36,
     "metadata": {},
     "output_type": "execute_result"
    }
   ],
   "source": [
    "f(pc[2])"
   ]
  },
  {
   "cell_type": "code",
   "execution_count": 37,
   "metadata": {},
   "outputs": [
    {
     "data": {
      "text/latex": [
       "$\\displaystyle \\frac{6}{x^{4}}$"
      ],
      "text/plain": [
       "6/x**4"
      ]
     },
     "execution_count": 37,
     "metadata": {},
     "output_type": "execute_result"
    }
   ],
   "source": [
    "#Encontramos la segunda derivada y se evalua en los puntos criticos\n",
    "ddf=ddf=sym.diff(df,x)\n",
    "ddf"
   ]
  },
  {
   "cell_type": "code",
   "execution_count": 38,
   "metadata": {},
   "outputs": [
    {
     "data": {
      "text/latex": [
       "$\\displaystyle 0$"
      ],
      "text/plain": [
       "0"
      ]
     },
     "execution_count": 38,
     "metadata": {},
     "output_type": "execute_result"
    }
   ],
   "source": [
    "df.subs(x,pc[0])"
   ]
  },
  {
   "cell_type": "code",
   "execution_count": 39,
   "metadata": {},
   "outputs": [
    {
     "data": {
      "text/latex": [
       "$\\displaystyle 1 - \\frac{2}{\\left(- \\frac{\\sqrt[3]{2}}{2} - \\frac{\\sqrt[3]{2} \\sqrt{3} i}{2}\\right)^{3}}$"
      ],
      "text/plain": [
       "1 - 2/(-2**(1/3)/2 - 2**(1/3)*sqrt(3)*I/2)**3"
      ]
     },
     "execution_count": 39,
     "metadata": {},
     "output_type": "execute_result"
    }
   ],
   "source": [
    "df.subs(x,pc[1])"
   ]
  },
  {
   "cell_type": "code",
   "execution_count": 40,
   "metadata": {},
   "outputs": [
    {
     "data": {
      "text/latex": [
       "$\\displaystyle 1 - \\frac{2}{\\left(- \\frac{\\sqrt[3]{2}}{2} + \\frac{\\sqrt[3]{2} \\sqrt{3} i}{2}\\right)^{3}}$"
      ],
      "text/plain": [
       "1 - 2/(-2**(1/3)/2 + 2**(1/3)*sqrt(3)*I/2)**3"
      ]
     },
     "execution_count": 40,
     "metadata": {},
     "output_type": "execute_result"
    }
   ],
   "source": [
    "df.subs(x,pc[2])"
   ]
  },
  {
   "cell_type": "code",
   "execution_count": 110,
   "metadata": {},
   "outputs": [
    {
     "data": {
      "text/latex": [
       "$\\displaystyle \\frac{3 \\cdot 2^{\\frac{2}{3}}}{2}$"
      ],
      "text/plain": [
       "3*2**(2/3)/2"
      ]
     },
     "execution_count": 110,
     "metadata": {},
     "output_type": "execute_result"
    }
   ],
   "source": [
    "ddf.subs(x,pc[0]) #Se evalua la 2da derivada en los puntos criticos"
   ]
  },
  {
   "cell_type": "code",
   "execution_count": 42,
   "metadata": {},
   "outputs": [
    {
     "data": {
      "text/latex": [
       "$\\displaystyle \\frac{6}{\\left(- \\frac{\\sqrt[3]{2}}{2} - \\frac{\\sqrt[3]{2} \\sqrt{3} i}{2}\\right)^{4}}$"
      ],
      "text/plain": [
       "6/(-2**(1/3)/2 - 2**(1/3)*sqrt(3)*I/2)**4"
      ]
     },
     "execution_count": 42,
     "metadata": {},
     "output_type": "execute_result"
    }
   ],
   "source": [
    "ddf.subs(x,pc[1])"
   ]
  },
  {
   "cell_type": "code",
   "execution_count": 43,
   "metadata": {},
   "outputs": [
    {
     "data": {
      "text/latex": [
       "$\\displaystyle \\frac{6}{\\left(- \\frac{\\sqrt[3]{2}}{2} + \\frac{\\sqrt[3]{2} \\sqrt{3} i}{2}\\right)^{4}}$"
      ],
      "text/plain": [
       "6/(-2**(1/3)/2 + 2**(1/3)*sqrt(3)*I/2)**4"
      ]
     },
     "execution_count": 43,
     "metadata": {},
     "output_type": "execute_result"
    }
   ],
   "source": [
    "ddf.subs(x,pc[2])"
   ]
  },
  {
   "cell_type": "code",
   "execution_count": 44,
   "metadata": {},
   "outputs": [],
   "source": [
    "#Por el criterio de la 2da derivada se trata de minimos relativo en ambos puntos criticos pc[1,2]\n",
    "#Los maximos tienden al infinito no es concluyente"
   ]
  },
  {
   "cell_type": "markdown",
   "metadata": {
    "colab_type": "text",
    "id": "WSf2O-FsGYtu"
   },
   "source": [
    "1.2 $f(x)=\\frac{15x}{2}\\sqrt{\\frac{x}{x-30}}$"
   ]
  },
  {
   "cell_type": "code",
   "execution_count": 45,
   "metadata": {},
   "outputs": [
    {
     "data": {
      "text/latex": [
       "$\\displaystyle \\frac{15 x \\left(\\frac{x}{x - 30}\\right)^{0.5}}{2}$"
      ],
      "text/plain": [
       "15*x*(x/(x - 30))**0.5/2"
      ]
     },
     "execution_count": 45,
     "metadata": {},
     "output_type": "execute_result"
    }
   ],
   "source": [
    "def g(x):\n",
    "    return (15*x/2)*(x/(x-30))**(1/2)\n",
    "g(x)"
   ]
  },
  {
   "cell_type": "code",
   "execution_count": 46,
   "metadata": {},
   "outputs": [
    {
     "data": {
      "text/plain": [
       "[0.0, 45.0000000000000]"
      ]
     },
     "execution_count": 46,
     "metadata": {},
     "output_type": "execute_result"
    }
   ],
   "source": [
    "dg=sym.diff(g(x),x)\n",
    "pc2=sym.solve(dg,x)\n",
    "pc2"
   ]
  },
  {
   "cell_type": "code",
   "execution_count": 47,
   "metadata": {},
   "outputs": [
    {
     "data": {
      "image/png": "[encoded data removed]",
      "text/plain": [
       "<Figure size 432x288 with 1 Axes>"
      ]
     },
     "metadata": {
      "needs_background": "light"
     },
     "output_type": "display_data"
    }
   ],
   "source": [
    "xn=np.linspace(-5,0,100)\n",
    "y=g(xn)\n",
    "plt.plot(xn,y)\n",
    "plt.plot(pc2[0],g(pc2[0]),'*r',ms=10)\n",
    "plt.grid()"
   ]
  },
  {
   "cell_type": "code",
   "execution_count": 48,
   "metadata": {},
   "outputs": [],
   "source": [
    "#Se trata de un maximo en la funcion."
   ]
  },
  {
   "cell_type": "markdown",
   "metadata": {
    "colab_type": "text",
    "id": "7A2O6L5gGx-q"
   },
   "source": [
    "1.3 $f(x)=100(1+\\cos(x)\\sin(x))$, para $x\\in[0.\\frac{\\pi}{2}]$"
   ]
  },
  {
   "cell_type": "code",
   "execution_count": 49,
   "metadata": {},
   "outputs": [],
   "source": [
    "h=100*(1+sym.cos(x)*sym.sin(x))\n",
    "h\n",
    "hn=sym.lambdify(x,h,'numpy')"
   ]
  },
  {
   "cell_type": "code",
   "execution_count": 50,
   "metadata": {},
   "outputs": [
    {
     "data": {
      "text/plain": [
       "[-pi/4, pi/4]"
      ]
     },
     "execution_count": 50,
     "metadata": {},
     "output_type": "execute_result"
    }
   ],
   "source": [
    "dh=sym.diff(h,x)\n",
    "pc3=sym.solve(dh,x)\n",
    "pc3"
   ]
  },
  {
   "cell_type": "code",
   "execution_count": 53,
   "metadata": {},
   "outputs": [
    {
     "data": {
      "image/png": "[encoded data removed]",
      "text/plain": [
       "<Figure size 432x288 with 1 Axes>"
      ]
     },
     "metadata": {
      "needs_background": "light"
     },
     "output_type": "display_data"
    }
   ],
   "source": [
    "xn=np.linspace(0,np.pi/2,100)\n",
    "y=hn(xn)\n",
    "plt.plot(xn,y)\n",
    "plt.plot(float(pc3[1]),hn(float(pc3[1])),'*r',ms=10)\n",
    "plt.grid()"
   ]
  },
  {
   "cell_type": "code",
   "execution_count": null,
   "metadata": {},
   "outputs": [],
   "source": [
    "#Se trata de un maximo en la funcion"
   ]
  },
  {
   "cell_type": "markdown",
   "metadata": {
    "colab_type": "text",
    "id": "mibUuJQGHSUO"
   },
   "source": [
    "2. Resuelva los siguientes problemas:"
   ]
  },
  {
   "cell_type": "markdown",
   "metadata": {
    "colab_type": "text",
    "id": "uxDIyBC6HYFx"
   },
   "source": [
    "2.1  Se desea hacer una caja con tapa cuyo volumen sea de 72 $cm^3$. Además, lo largo de la base debe ser el doble de lo ancho. ¿Cuáles deben ser las dimensiones de modo que la superficie de la caja sea mínima? y, ¿cuál la superficie mínima?\n"
   ]
  },
  {
   "cell_type": "code",
   "execution_count": 98,
   "metadata": {
    "colab": {},
    "colab_type": "code",
    "id": "7Lvny-LWHXcx"
   },
   "outputs": [
    {
     "data": {
      "text/latex": [
       "$\\displaystyle 4 x^{2} + \\frac{216}{x}$"
      ],
      "text/plain": [
       "4*x**2 + 216/x"
      ]
     },
     "execution_count": 98,
     "metadata": {},
     "output_type": "execute_result"
    }
   ],
   "source": [
    "import numpy as np\n",
    "import sympy as sym\n",
    "import matplotlib.pyplot as plt\n",
    "import math\n",
    "sym.var(\"x\")\n",
    "sym.var('y')\n",
    "sym.var('z')\n",
    "# 'y=2x' \n",
    "# Porque debe ser el doble del ancho (1)\n",
    "#\n",
    "# '72cm3=xyz=x(2x)z' (2)\n",
    "\n",
    "# z=72/2x^2-Sale de despejar Z de (2)\n",
    "\n",
    "#Se sustituyen los valores de 'y' y 'z' en v=xyz=72cm3\n",
    "\n",
    "y=2*x\n",
    "z=((x*72)/(2*x**2))\n",
    "v=2*((x*(2*x))+((x*72)/(2*x**2))+((2*x)*((72)/(2*x**2))))\n",
    "v"
   ]
  },
  {
   "cell_type": "code",
   "execution_count": 96,
   "metadata": {},
   "outputs": [
    {
     "data": {
      "text/latex": [
       "$\\displaystyle 8 x - \\frac{216}{x^{2}}$"
      ],
      "text/plain": [
       "8*x - 216/x**2"
      ]
     },
     "execution_count": 96,
     "metadata": {},
     "output_type": "execute_result"
    }
   ],
   "source": [
    "dv=sym.diff(v,x)\n",
    "dv\n"
   ]
  },
  {
   "cell_type": "code",
   "execution_count": 93,
   "metadata": {},
   "outputs": [
    {
     "data": {
      "text/plain": [
       "[3, -3/2 - 3*sqrt(3)*I/2, -3/2 + 3*sqrt(3)*I/2]"
      ]
     },
     "execution_count": 93,
     "metadata": {},
     "output_type": "execute_result"
    }
   ],
   "source": [
    "pc4=sym.solve(dv,x)\n",
    "pc4"
   ]
  },
  {
   "cell_type": "code",
   "execution_count": 94,
   "metadata": {},
   "outputs": [
    {
     "data": {
      "text/latex": [
       "$\\displaystyle 3$"
      ],
      "text/plain": [
       "3"
      ]
     },
     "execution_count": 94,
     "metadata": {},
     "output_type": "execute_result"
    }
   ],
   "source": [
    "pc4[0] #3 seria el unico punto critico en la posicion [0], siendo el minimo global de la funcion."
   ]
  },
  {
   "cell_type": "code",
   "execution_count": 114,
   "metadata": {},
   "outputs": [
    {
     "data": {
      "text/plain": [
       "(2*x, 36/x, 4*x**2 + 216/x)"
      ]
     },
     "execution_count": 114,
     "metadata": {},
     "output_type": "execute_result"
    }
   ],
   "source": [
    "#Se crean las funciones para poder evaluarlas en el punto critico = '3'\n",
    "def y(x):\n",
    "    return 2*x\n",
    "def z(x):\n",
    "    return ((x*72)/(2*x**2))\n",
    "def v(x):\n",
    "    return 2*((x*(2*x))+((x*72)/(2*x**2))+((2*x)*((72)/(2*x**2))))\n",
    "y(x),z(x),v(x)"
   ]
  },
  {
   "cell_type": "code",
   "execution_count": 116,
   "metadata": {},
   "outputs": [
    {
     "data": {
      "text/plain": [
       "(6, 12, 108)"
      ]
     },
     "execution_count": 116,
     "metadata": {},
     "output_type": "execute_result"
    }
   ],
   "source": [
    "#Se evaluan las anteriores relaciones en el punto critico(minimo global)\n",
    "y(x).subs(x,pc4[0]),z(x).subs(x,pc4[0]),v(x).subs(x,pc4[0])\n"
   ]
  },
  {
   "cell_type": "code",
   "execution_count": null,
   "metadata": {},
   "outputs": [],
   "source": [
    "#El area minima de la caja es 108 cm2, y tiene 3cm de largo,6 cm de ancho y 4 cm de alto."
   ]
  },
  {
   "cell_type": "markdown",
   "metadata": {
    "colab_type": "text",
    "id": "AhKGcooYopud"
   },
   "source": [
    "2.2 Una bodega de 5 $m$ de largo, 4 $m$ de ancho y 3 $m$ de alto, tiene un contacto en una esquina a 80 $cm$ de alto. Si se requiere colocar un foco en el techo justo en la esquina opuesta, ¿cuál es la distancia sobre las paredes de la bodega que se debe seguir para ahorrar cable eléctrico?\n",
    "\n",
    "Pista: Encuentre el punto P en la imágen.\n",
    "\n",
    "![](./Tarea_OptEsc_2.2.PNG)\n"
   ]
  },
  {
   "cell_type": "code",
   "execution_count": null,
   "metadata": {},
   "outputs": [],
   "source": []
  },
  {
   "cell_type": "markdown",
   "metadata": {
    "colab_type": "text",
    "id": "OIowvQqGpG7a"
   },
   "source": [
    "2.3 Un barco encalló a $9 km$ del punto **P** más próximo de una costa en línea recta. Se necesita enviar a un mensajero a un pueblo situado en la orilla de la costa a 15 km de **P**. Teniendo en cuenta que el mensajero recorre a pie $5 km/h$, y en una barca a $4 km/h$, decir en qué punto de la orilla debe desembarcar para llegar al pueblo lo más pronto posible?\n",
    "\n",
    "![](./Tarea_OptEsc_2.3.PNG)"
   ]
  },
  {
   "cell_type": "code",
   "execution_count": null,
   "metadata": {},
   "outputs": [],
   "source": []
  }
 ],
 "metadata": {
  "colab": {
   "collapsed_sections": [],
   "name": "Tarea - OptEsc.ipynb",
   "provenance": []
  },
  "kernelspec": {
   "display_name": "Python 3",
   "language": "python",
   "name": "python3"
  },
  "language_info": {
   "codemirror_mode": {
    "name": "ipython",
    "version": 3
   },
   "file_extension": ".py",
   "mimetype": "text/x-python",
   "name": "python",
   "nbconvert_exporter": "python",
   "pygments_lexer": "ipython3",
   "version": "3.8.8"
  }
 },
 "nbformat": 4,
 "nbformat_minor": 1
}
