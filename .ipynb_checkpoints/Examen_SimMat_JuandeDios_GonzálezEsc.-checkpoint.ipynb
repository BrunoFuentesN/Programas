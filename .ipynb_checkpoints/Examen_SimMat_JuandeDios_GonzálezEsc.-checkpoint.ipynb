{
 "cells": [
  {
   "cell_type": "markdown",
   "metadata": {},
   "source": [
    "# Examen Final - Simulación Matemática - P2021.\n",
    "\n",
    "<img style=\"float: right; margin: 0px 0px 15px 15px;\" src=\"https://upload.wikimedia.org/wikipedia/commons/5/5f/RREA_Monte_Carlo_simulation.png\" width=\"600px\" height=\"400px\" />\n",
    "\n",
    "**Resumen.**\n",
    "> Este examen pretende evaluar los conocimientos que hemos adquirido a lo largo del curso.\n",
    "\n",
    "> El examen consta tres ejercicios, relativos a cada uno de los módulos del curso respectivamente:\n",
    "  1. Optimización.\n",
    "  2. Simulación Montecarlo.\n",
    "  3. Ecuaciones diferenciales.\n",
    ">  \n",
    ">  Estos ejercicios deben ser resueltos usando los conceptos de simulación y las herramientas de programación vistos en clase.\n",
    "\n",
    "**Criterio de revisión.**\n",
    "> Cada ejercicio equivale un tercio de la calificación final. Se calificará de acuerdo a los resultados finales que reportes, basados en tu análisis.\n",
    "___"
   ]
  },
  {
   "cell_type": "markdown",
   "metadata": {},
   "source": [
    "## I. Optimización - Modelando la relación de los peces con su tamaño (34 Puntos)\n",
    "\n",
    "En 1981, 78 peces \"agallas azules\" fueron tomados aleatoriamente del Lake Mary, en Minnesota. Los investigadores (Cook and Weisberg, 1999) midieron y registraron datos de longitud (en mm) y edad (en años) de dichos peces. Esta información se encuentra en el archivo `bluegills_dataset.txt` (datos separados por tabulador).\n",
    "\n",
    "Este archivo se puede cargar en memoria de la siguiente manera, usando pandas:"
   ]
  },
  {
   "cell_type": "code",
   "execution_count": 104,
   "metadata": {},
   "outputs": [],
   "source": [
    "# Importar pandas\n",
    "from matplotlib import pyplot as plt\n",
    "%matplotlib inline \n",
    "import pandas as pd\n",
    "import numpy as np\n",
    "from scipy import optimize as opt \n",
    "from pandas_datareader import data as web\n",
    "import sympy as sym \n",
    "sym.init_printing(use_latex='mathjax')\n",
    "from scipy.integrate import odeint\n",
    "from sympy import limit, Symbol\n",
    "from sympy import limit, oo, Symbol"
   ]
  },
  {
   "cell_type": "code",
   "execution_count": 105,
   "metadata": {},
   "outputs": [],
   "source": [
    "# Cargar datos en memoria\n",
    "data = pd.read_csv(\"bluegills_dataset.txt\", sep=\"\\t\")"
   ]
  },
  {
   "cell_type": "code",
   "execution_count": 106,
   "metadata": {},
   "outputs": [
    {
     "data": {
      "text/html": [
       "<div>\n",
       "<style scoped>\n",
       "    .dataframe tbody tr th:only-of-type {\n",
       "        vertical-align: middle;\n",
       "    }\n",
       "\n",
       "    .dataframe tbody tr th {\n",
       "        vertical-align: top;\n",
       "    }\n",
       "\n",
       "    .dataframe thead th {\n",
       "        text-align: right;\n",
       "    }\n",
       "</style>\n",
       "<table border=\"1\" class=\"dataframe\">\n",
       "  <thead>\n",
       "    <tr style=\"text-align: right;\">\n",
       "      <th></th>\n",
       "      <th>age</th>\n",
       "      <th>length</th>\n",
       "    </tr>\n",
       "  </thead>\n",
       "  <tbody>\n",
       "    <tr>\n",
       "      <th>0</th>\n",
       "      <td>1</td>\n",
       "      <td>67</td>\n",
       "    </tr>\n",
       "    <tr>\n",
       "      <th>1</th>\n",
       "      <td>1</td>\n",
       "      <td>62</td>\n",
       "    </tr>\n",
       "    <tr>\n",
       "      <th>2</th>\n",
       "      <td>2</td>\n",
       "      <td>109</td>\n",
       "    </tr>\n",
       "    <tr>\n",
       "      <th>3</th>\n",
       "      <td>2</td>\n",
       "      <td>83</td>\n",
       "    </tr>\n",
       "    <tr>\n",
       "      <th>4</th>\n",
       "      <td>2</td>\n",
       "      <td>91</td>\n",
       "    </tr>\n",
       "    <tr>\n",
       "      <th>...</th>\n",
       "      <td>...</td>\n",
       "      <td>...</td>\n",
       "    </tr>\n",
       "    <tr>\n",
       "      <th>73</th>\n",
       "      <td>6</td>\n",
       "      <td>170</td>\n",
       "    </tr>\n",
       "    <tr>\n",
       "      <th>74</th>\n",
       "      <td>4</td>\n",
       "      <td>160</td>\n",
       "    </tr>\n",
       "    <tr>\n",
       "      <th>75</th>\n",
       "      <td>5</td>\n",
       "      <td>180</td>\n",
       "    </tr>\n",
       "    <tr>\n",
       "      <th>76</th>\n",
       "      <td>4</td>\n",
       "      <td>160</td>\n",
       "    </tr>\n",
       "    <tr>\n",
       "      <th>77</th>\n",
       "      <td>4</td>\n",
       "      <td>170</td>\n",
       "    </tr>\n",
       "  </tbody>\n",
       "</table>\n",
       "<p>78 rows × 2 columns</p>\n",
       "</div>"
      ],
      "text/plain": [
       "    age  length\n",
       "0     1      67\n",
       "1     1      62\n",
       "2     2     109\n",
       "3     2      83\n",
       "4     2      91\n",
       "..  ...     ...\n",
       "73    6     170\n",
       "74    4     160\n",
       "75    5     180\n",
       "76    4     160\n",
       "77    4     170\n",
       "\n",
       "[78 rows x 2 columns]"
      ]
     },
     "execution_count": 106,
     "metadata": {},
     "output_type": "execute_result"
    }
   ],
   "source": [
    "data "
   ]
  },
  {
   "cell_type": "markdown",
   "metadata": {},
   "source": [
    "**Punto 1** (4 puntos) Realizar un gráfico de dispersión de puntos de la edad de los peces (eje x) vs. la longitud de los mismos (eje y). Asegúrese de etiquetar los ejes."
   ]
  },
  {
   "cell_type": "code",
   "execution_count": 96,
   "metadata": {},
   "outputs": [],
   "source": [
    "x= data ['age'].values \n",
    "y= data ['length'].values "
   ]
  },
  {
   "cell_type": "code",
   "execution_count": 97,
   "metadata": {},
   "outputs": [],
   "source": [
    "x=np.sort(x)\n",
    "y=np.sort(y)/100"
   ]
  },
  {
   "cell_type": "code",
   "execution_count": 98,
   "metadata": {},
   "outputs": [
    {
     "data": {
      "image/png": "[encoded data removed]",
      "text/plain": [
       "<Figure size 432x288 with 1 Axes>"
      ]
     },
     "metadata": {
      "needs_background": "light"
     },
     "output_type": "display_data"
    }
   ],
   "source": [
    "plt.figure(figsize=(6,4))\n",
    "plt.scatter(x,y)\n",
    "plt.xlabel('Edad de peces')\n",
    "plt.ylabel('Longitud de peces')\n",
    "plt.grid()\n",
    "plt.show()"
   ]
  },
  {
   "cell_type": "markdown",
   "metadata": {},
   "source": [
    "**Punto 2** (10 puntos) Ajustar polinomios de grado 1 hasta grado 3, usando un enfoque de ajuste robusto (es decir, usando la función de Huber como función de pérdida)."
   ]
  },
  {
   "cell_type": "code",
   "execution_count": 99,
   "metadata": {},
   "outputs": [],
   "source": [
    "def huber(a,d):\n",
    "    if np.abs(a)<= d:\n",
    "        return a**2\n",
    "    else:\n",
    "        return d * (2 * np.abs(a) - d)"
   ]
  },
  {
   "cell_type": "code",
   "execution_count": 100,
   "metadata": {},
   "outputs": [],
   "source": [
    "def min_sq_rob(beta, x_points, y_points, N):\n",
    "    n = len(x_points)\n",
    "    poli_N = np.array([beta[i]*x_points**i for i in range(N+1)]).sum(axis=0)\n",
    "    return (1 / (2 * n)) * (np.vectorize(huber)(y_points - poli_N - poli_N, 5)).sum()"
   ]
  },
  {
   "cell_type": "code",
   "execution_count": 101,
   "metadata": {},
   "outputs": [
    {
     "data": {
      "text/plain": [
       "array([0.27516512, 0.12205697])"
      ]
     },
     "execution_count": 101,
     "metadata": {},
     "output_type": "execute_result"
    }
   ],
   "source": [
    "solucion1= opt.minimize(fun=min_sq_rob,\n",
    "                        x0=np.zeros(2),\n",
    "                        args=(x, y,1))\n",
    "beta_rob = solucion1.x\n",
    "beta_rob"
   ]
  },
  {
   "cell_type": "code",
   "execution_count": 102,
   "metadata": {},
   "outputs": [
    {
     "data": {
      "text/plain": [
       "array([ 0.11415087,  0.22628794, -0.01549704])"
      ]
     },
     "execution_count": 102,
     "metadata": {},
     "output_type": "execute_result"
    }
   ],
   "source": [
    "solucion2= opt.minimize(fun=min_sq_rob,\n",
    "                        x0=np.zeros(3),\n",
    "                        args=(x, y,2))\n",
    "beta_rob = solucion2.x\n",
    "beta_rob"
   ]
  },
  {
   "cell_type": "code",
   "execution_count": 103,
   "metadata": {},
   "outputs": [
    {
     "data": {
      "text/plain": [
       "array([ 0.05372724,  0.29197125, -0.03637091,  0.00202676])"
      ]
     },
     "execution_count": 103,
     "metadata": {},
     "output_type": "execute_result"
    }
   ],
   "source": [
    "solucion3= opt.minimize(fun=min_sq_rob,\n",
    "                        x0=np.zeros(4),\n",
    "                        args=(x, y,3))\n",
    "beta_rob = solucion3.x\n",
    "beta_rob"
   ]
  },
  {
   "cell_type": "markdown",
   "metadata": {},
   "source": [
    "**Punto 3** (5 puntos) Graficar el error cuadrático acumulado contra el número de términos, y elegir un polinomio que ajuste bien y su grado sea el menor posible."
   ]
  },
  {
   "cell_type": "code",
   "execution_count": 53,
   "metadata": {},
   "outputs": [],
   "source": [
    "error = []\n",
    "for i in range(1, 10):\n",
    "    beta_ini = np.zeros(i + 1)\n",
    "    solucion = opt.minimize(fun=min_sq_rob, x0=beta_ini, args=(x,y,i))\n",
    "    error.append(solucion.fun)"
   ]
  },
  {
   "cell_type": "code",
   "execution_count": 54,
   "metadata": {},
   "outputs": [
    {
     "data": {
      "image/png": "[encoded data removed]",
      "text/plain": [
       "<Figure size 432x288 with 1 Axes>"
      ]
     },
     "metadata": {
      "needs_background": "light"
     },
     "output_type": "display_data"
    }
   ],
   "source": [
    "plt.figure(figsize=(6,4))\n",
    "plt.plot(range(1,10),error)\n",
    "plt.xlabel(\"Orden el polinomio\")\n",
    "plt.ylabel(\"Error\")\n",
    "plt.grid()"
   ]
  },
  {
   "cell_type": "code",
   "execution_count": 55,
   "metadata": {},
   "outputs": [
    {
     "data": {
      "text/plain": [
       "array([0.27516512, 0.12205697])"
      ]
     },
     "execution_count": 55,
     "metadata": {},
     "output_type": "execute_result"
    }
   ],
   "source": [
    "beta_rob = solucion1.x\n",
    "beta_rob"
   ]
  },
  {
   "cell_type": "markdown",
   "metadata": {},
   "source": [
    "**Punto 4** (5 puntos) Realizar un gráfico de dispersión de puntos de la edad de los peces (eje x) vs. la longitud de los mismos (eje y). Además, incluir el gráfico del polinomio ajustado elegido en el punto anterior. Asegúrese de etiquetar los ejes y las gráficas."
   ]
  },
  {
   "cell_type": "code",
   "execution_count": 56,
   "metadata": {},
   "outputs": [
    {
     "data": {
      "image/png": "[encoded data removed]",
      "text/plain": [
       "<Figure size 432x288 with 1 Axes>"
      ]
     },
     "metadata": {
      "needs_background": "light"
     },
     "output_type": "display_data"
    }
   ],
   "source": [
    "plt.figure(figsize=(6, 4))\n",
    "plt.plot(x, y*100, 'xb', label='Tubo 16')\n",
    "y_fit = beta_rob[0] + beta_rob[1] * x\n",
    "plt.plot(x, y_fit*100, 'g', lw=3, \n",
    "         label=f'Recta ajustada: $y=${np.round(beta_rob[0], 2)*100} + {np.round(beta_rob[1], 2)*100}$x$')\n",
    "plt.xlabel('$Edades$')\n",
    "plt.ylabel('$Longitudes$')\n",
    "plt.legend(loc='best')\n",
    "plt.grid()"
   ]
  },
  {
   "cell_type": "markdown",
   "metadata": {},
   "source": [
    "**Punto 5** (10 puntos) Supongamos que vas al Lake Mary de pesca con tu mejor amig@. Después de un par de horas, pescan precisamente un pez agallas azules \"bluegills\", que resulta medir 150 mm. De acuerdo al modelo que elegiste, ¿Cuántos años estimas que tenía el pescado?"
   ]
  },
  {
   "cell_type": "code",
   "execution_count": 57,
   "metadata": {},
   "outputs": [
    {
     "data": {
      "text/latex": [
       "$\\displaystyle 3.9583333333333335$"
      ],
      "text/plain": [
       "3.9583333333333335"
      ]
     },
     "execution_count": 57,
     "metadata": {},
     "output_type": "execute_result"
    }
   ],
   "source": [
    "(150-55)/24"
   ]
  },
  {
   "cell_type": "markdown",
   "metadata": {},
   "source": []
  },
  {
   "cell_type": "markdown",
   "metadata": {},
   "source": [
    "___\n",
    "## II. Simulación Montecarlo - Probabilidad de crecimiento del mercado por encima de su media (33 puntos)"
   ]
  },
  {
   "cell_type": "markdown",
   "metadata": {},
   "source": [
    "El índice Standard & Poor's 500 (Standard & Poor's 500 Index), también conocido como S&P 500, es uno de los índices bursátiles más importantes de Estados Unidos. Al S&P 500 se lo considera el índice más representativo de la situación real del mercado.\n",
    "\n",
    "El índice se basa en la capitalización bursátil de 500 grandes empresas que poseen acciones que cotizan en las bolsas NYSE o NASDAQ, y captura aproximadamente el 80% de toda la capitalización de mercado en Estados Unidos. Los componentes del índice S&P 500 y su ponderación son determinados por S&P Dow Jones Indices. Se diferencia de otros índices de mercados financieros de Estados Unidos, tales como el Dow Jones Industrial Average o el índice Nasdaq Composite, en la diversidad de los rubros que lo conforman y en su metodología de ponderación. Es uno de los índices de valores más seguidos, y muchas personas lo consideran el más representativo del mercado de acciones de Estados Unidos, y el marcador de tendencias de la economía norteamericana. El National Bureau of Economic Research ha clasificado a las acciones comunes como un indicador relevante de los ciclos de negocios.\n",
    "\n",
    "Fuente: https://es.wikipedia.org/wiki/S%26P_500"
   ]
  },
  {
   "cell_type": "markdown",
   "metadata": {},
   "source": [
    "**Punto 1** (5 puntos) Descargar los precios diarios ajustados en el cierre del índice S&P500 (clave de cotización `^GSPC`) desde el primer día de 2010 hasta el día en que realice el examen, usando la función `get_closes` vista en la clase 11. Graficar los precios diarios a través del tiempo."
   ]
  },
  {
   "cell_type": "code",
   "execution_count": 17,
   "metadata": {},
   "outputs": [],
   "source": [
    "from pandas_datareader import data as web "
   ]
  },
  {
   "cell_type": "code",
   "execution_count": 18,
   "metadata": {},
   "outputs": [],
   "source": [
    "def get_closes(tickers, start_date=None, end_date=None):\n",
    "    closes = web.DataReader(tickers, start=start_date, end=end_date, data_source='yahoo')['Adj Close']\n",
    "    closes = closes.sort_index()\n",
    "    return closes"
   ]
  },
  {
   "cell_type": "code",
   "execution_count": 19,
   "metadata": {},
   "outputs": [],
   "source": [
    "\n",
    "name = ['^GSPC']\n",
    "start = '2010-01-01'\n",
    "end = '2021-05-06'\n",
    "\n",
    "closes = get_closes(tickers=name,\n",
    "                    start_date=start,\n",
    "                    end_date=end)\n"
   ]
  },
  {
   "cell_type": "code",
   "execution_count": 20,
   "metadata": {},
   "outputs": [
    {
     "data": {
      "text/html": [
       "<div>\n",
       "<style scoped>\n",
       "    .dataframe tbody tr th:only-of-type {\n",
       "        vertical-align: middle;\n",
       "    }\n",
       "\n",
       "    .dataframe tbody tr th {\n",
       "        vertical-align: top;\n",
       "    }\n",
       "\n",
       "    .dataframe thead th {\n",
       "        text-align: right;\n",
       "    }\n",
       "</style>\n",
       "<table border=\"1\" class=\"dataframe\">\n",
       "  <thead>\n",
       "    <tr style=\"text-align: right;\">\n",
       "      <th>Symbols</th>\n",
       "      <th>^GSPC</th>\n",
       "    </tr>\n",
       "    <tr>\n",
       "      <th>Date</th>\n",
       "      <th></th>\n",
       "    </tr>\n",
       "  </thead>\n",
       "  <tbody>\n",
       "    <tr>\n",
       "      <th>2010-01-04</th>\n",
       "      <td>1132.989990</td>\n",
       "    </tr>\n",
       "    <tr>\n",
       "      <th>2010-01-05</th>\n",
       "      <td>1136.520020</td>\n",
       "    </tr>\n",
       "    <tr>\n",
       "      <th>2010-01-06</th>\n",
       "      <td>1137.140015</td>\n",
       "    </tr>\n",
       "    <tr>\n",
       "      <th>2010-01-07</th>\n",
       "      <td>1141.689941</td>\n",
       "    </tr>\n",
       "    <tr>\n",
       "      <th>2010-01-08</th>\n",
       "      <td>1144.979980</td>\n",
       "    </tr>\n",
       "  </tbody>\n",
       "</table>\n",
       "</div>"
      ],
      "text/plain": [
       "Symbols           ^GSPC\n",
       "Date                   \n",
       "2010-01-04  1132.989990\n",
       "2010-01-05  1136.520020\n",
       "2010-01-06  1137.140015\n",
       "2010-01-07  1141.689941\n",
       "2010-01-08  1144.979980"
      ]
     },
     "execution_count": 20,
     "metadata": {},
     "output_type": "execute_result"
    }
   ],
   "source": [
    "closes.head()"
   ]
  },
  {
   "cell_type": "code",
   "execution_count": 58,
   "metadata": {},
   "outputs": [
    {
     "data": {
      "image/png": "[encoded data removed]",
      "text/plain": [
       "<Figure size 432x288 with 1 Axes>"
      ]
     },
     "metadata": {
      "needs_background": "light"
     },
     "output_type": "display_data"
    }
   ],
   "source": [
    "closes.plot(); "
   ]
  },
  {
   "cell_type": "markdown",
   "metadata": {},
   "source": [
    "**Punto 2.** (5 puntos) A partir de los precios diarios descargados en el punto 1, obtenga los rendimientos diarios, y grafíquelos a través del tiempo."
   ]
  },
  {
   "cell_type": "code",
   "execution_count": 21,
   "metadata": {},
   "outputs": [],
   "source": [
    "ret = closes.pct_change().dropna()"
   ]
  },
  {
   "cell_type": "code",
   "execution_count": 22,
   "metadata": {},
   "outputs": [
    {
     "data": {
      "text/html": [
       "<div>\n",
       "<style scoped>\n",
       "    .dataframe tbody tr th:only-of-type {\n",
       "        vertical-align: middle;\n",
       "    }\n",
       "\n",
       "    .dataframe tbody tr th {\n",
       "        vertical-align: top;\n",
       "    }\n",
       "\n",
       "    .dataframe thead th {\n",
       "        text-align: right;\n",
       "    }\n",
       "</style>\n",
       "<table border=\"1\" class=\"dataframe\">\n",
       "  <thead>\n",
       "    <tr style=\"text-align: right;\">\n",
       "      <th>Symbols</th>\n",
       "      <th>^GSPC</th>\n",
       "    </tr>\n",
       "    <tr>\n",
       "      <th>Date</th>\n",
       "      <th></th>\n",
       "    </tr>\n",
       "  </thead>\n",
       "  <tbody>\n",
       "    <tr>\n",
       "      <th>2010-01-05</th>\n",
       "      <td>0.003116</td>\n",
       "    </tr>\n",
       "    <tr>\n",
       "      <th>2010-01-06</th>\n",
       "      <td>0.000546</td>\n",
       "    </tr>\n",
       "    <tr>\n",
       "      <th>2010-01-07</th>\n",
       "      <td>0.004001</td>\n",
       "    </tr>\n",
       "    <tr>\n",
       "      <th>2010-01-08</th>\n",
       "      <td>0.002882</td>\n",
       "    </tr>\n",
       "    <tr>\n",
       "      <th>2010-01-11</th>\n",
       "      <td>0.001747</td>\n",
       "    </tr>\n",
       "  </tbody>\n",
       "</table>\n",
       "</div>"
      ],
      "text/plain": [
       "Symbols        ^GSPC\n",
       "Date                \n",
       "2010-01-05  0.003116\n",
       "2010-01-06  0.000546\n",
       "2010-01-07  0.004001\n",
       "2010-01-08  0.002882\n",
       "2010-01-11  0.001747"
      ]
     },
     "execution_count": 22,
     "metadata": {},
     "output_type": "execute_result"
    }
   ],
   "source": [
    "ret.head()"
   ]
  },
  {
   "cell_type": "code",
   "execution_count": 23,
   "metadata": {
    "scrolled": true
   },
   "outputs": [
    {
     "data": {
      "text/latex": [
       "$\\displaystyle 2854$"
      ],
      "text/plain": [
       "2854"
      ]
     },
     "execution_count": 23,
     "metadata": {},
     "output_type": "execute_result"
    }
   ],
   "source": [
    "len(ret)"
   ]
  },
  {
   "cell_type": "code",
   "execution_count": 24,
   "metadata": {},
   "outputs": [
    {
     "data": {
      "image/png": "[encoded data removed]",
      "text/plain": [
       "<Figure size 432x288 with 1 Axes>"
      ]
     },
     "metadata": {
      "needs_background": "light"
     },
     "output_type": "display_data"
    }
   ],
   "source": [
    "ret.plot();"
   ]
  },
  {
   "cell_type": "markdown",
   "metadata": {},
   "source": [
    "**Punto 3.** (3 puntos) Obtenga la media y la desviación estándar de los rendimientos diarios calculados en el punto 3."
   ]
  },
  {
   "cell_type": "code",
   "execution_count": 59,
   "metadata": {},
   "outputs": [
    {
     "data": {
      "text/latex": [
       "$\\displaystyle 0.000519740453414837$"
      ],
      "text/plain": [
       "0.000519740453414837"
      ]
     },
     "execution_count": 59,
     "metadata": {},
     "output_type": "execute_result"
    }
   ],
   "source": [
    "mu = ret.mean()['^GSPC']\n",
    "mu"
   ]
  },
  {
   "cell_type": "code",
   "execution_count": 60,
   "metadata": {},
   "outputs": [
    {
     "data": {
      "text/latex": [
       "$\\displaystyle 0.01096812932434948$"
      ],
      "text/plain": [
       "0.01096812932434948"
      ]
     },
     "execution_count": 60,
     "metadata": {},
     "output_type": "execute_result"
    }
   ],
   "source": [
    "sigma = ret.std()['^GSPC']\n",
    "sigma"
   ]
  },
  {
   "cell_type": "markdown",
   "metadata": {},
   "source": [
    "**Punto 4** (5 puntos) Suponiendo que el DataFrame de precios diarios del punto 1 lo llamaste `precios`, la siguiente línea de código obtiene los precios del primer día de cada año:"
   ]
  },
  {
   "cell_type": "code",
   "execution_count": 26,
   "metadata": {},
   "outputs": [
    {
     "data": {
      "text/html": [
       "<div>\n",
       "<style scoped>\n",
       "    .dataframe tbody tr th:only-of-type {\n",
       "        vertical-align: middle;\n",
       "    }\n",
       "\n",
       "    .dataframe tbody tr th {\n",
       "        vertical-align: top;\n",
       "    }\n",
       "\n",
       "    .dataframe thead th {\n",
       "        text-align: right;\n",
       "    }\n",
       "</style>\n",
       "<table border=\"1\" class=\"dataframe\">\n",
       "  <thead>\n",
       "    <tr style=\"text-align: right;\">\n",
       "      <th>Symbols</th>\n",
       "      <th>^GSPC</th>\n",
       "    </tr>\n",
       "  </thead>\n",
       "  <tbody>\n",
       "    <tr>\n",
       "      <th>2010</th>\n",
       "      <td>1132.989990</td>\n",
       "    </tr>\n",
       "    <tr>\n",
       "      <th>2011</th>\n",
       "      <td>1271.869995</td>\n",
       "    </tr>\n",
       "    <tr>\n",
       "      <th>2012</th>\n",
       "      <td>1277.060059</td>\n",
       "    </tr>\n",
       "    <tr>\n",
       "      <th>2013</th>\n",
       "      <td>1462.420044</td>\n",
       "    </tr>\n",
       "    <tr>\n",
       "      <th>2014</th>\n",
       "      <td>1831.979980</td>\n",
       "    </tr>\n",
       "    <tr>\n",
       "      <th>2015</th>\n",
       "      <td>2058.199951</td>\n",
       "    </tr>\n",
       "    <tr>\n",
       "      <th>2016</th>\n",
       "      <td>2012.660034</td>\n",
       "    </tr>\n",
       "    <tr>\n",
       "      <th>2017</th>\n",
       "      <td>2257.830078</td>\n",
       "    </tr>\n",
       "    <tr>\n",
       "      <th>2018</th>\n",
       "      <td>2695.810059</td>\n",
       "    </tr>\n",
       "    <tr>\n",
       "      <th>2019</th>\n",
       "      <td>2510.030029</td>\n",
       "    </tr>\n",
       "    <tr>\n",
       "      <th>2020</th>\n",
       "      <td>3257.850098</td>\n",
       "    </tr>\n",
       "    <tr>\n",
       "      <th>2021</th>\n",
       "      <td>3700.649902</td>\n",
       "    </tr>\n",
       "  </tbody>\n",
       "</table>\n",
       "</div>"
      ],
      "text/plain": [
       "Symbols        ^GSPC\n",
       "2010     1132.989990\n",
       "2011     1271.869995\n",
       "2012     1277.060059\n",
       "2013     1462.420044\n",
       "2014     1831.979980\n",
       "2015     2058.199951\n",
       "2016     2012.660034\n",
       "2017     2257.830078\n",
       "2018     2695.810059\n",
       "2019     2510.030029\n",
       "2020     3257.850098\n",
       "2021     3700.649902"
      ]
     },
     "execution_count": 26,
     "metadata": {},
     "output_type": "execute_result"
    }
   ],
   "source": [
    "# Obtener precios anuales\n",
    "closes_anuales = closes.groupby(by=lambda x: x.year).agg('first')\n",
    "closes_anuales"
   ]
  },
  {
   "cell_type": "markdown",
   "metadata": {},
   "source": [
    "1. A partir de los precios anuales, obtener los rendimientos anuales (*pista: usar el método `pct_change` sobre los precios anuales*).\n",
    "2. A partir de los rendimientos anuales, obtener el rendimiento medio anual (*pista: usar el método `mean` sobre los rendimientos anuales*)."
   ]
  },
  {
   "cell_type": "code",
   "execution_count": 27,
   "metadata": {},
   "outputs": [
    {
     "data": {
      "text/html": [
       "<div>\n",
       "<style scoped>\n",
       "    .dataframe tbody tr th:only-of-type {\n",
       "        vertical-align: middle;\n",
       "    }\n",
       "\n",
       "    .dataframe tbody tr th {\n",
       "        vertical-align: top;\n",
       "    }\n",
       "\n",
       "    .dataframe thead th {\n",
       "        text-align: right;\n",
       "    }\n",
       "</style>\n",
       "<table border=\"1\" class=\"dataframe\">\n",
       "  <thead>\n",
       "    <tr style=\"text-align: right;\">\n",
       "      <th>Symbols</th>\n",
       "      <th>^GSPC</th>\n",
       "    </tr>\n",
       "  </thead>\n",
       "  <tbody>\n",
       "    <tr>\n",
       "      <th>2011</th>\n",
       "      <td>0.122578</td>\n",
       "    </tr>\n",
       "    <tr>\n",
       "      <th>2012</th>\n",
       "      <td>0.004081</td>\n",
       "    </tr>\n",
       "    <tr>\n",
       "      <th>2013</th>\n",
       "      <td>0.145146</td>\n",
       "    </tr>\n",
       "    <tr>\n",
       "      <th>2014</th>\n",
       "      <td>0.252704</td>\n",
       "    </tr>\n",
       "    <tr>\n",
       "      <th>2015</th>\n",
       "      <td>0.123484</td>\n",
       "    </tr>\n",
       "    <tr>\n",
       "      <th>2016</th>\n",
       "      <td>-0.022126</td>\n",
       "    </tr>\n",
       "    <tr>\n",
       "      <th>2017</th>\n",
       "      <td>0.121814</td>\n",
       "    </tr>\n",
       "    <tr>\n",
       "      <th>2018</th>\n",
       "      <td>0.193983</td>\n",
       "    </tr>\n",
       "    <tr>\n",
       "      <th>2019</th>\n",
       "      <td>-0.068914</td>\n",
       "    </tr>\n",
       "    <tr>\n",
       "      <th>2020</th>\n",
       "      <td>0.297933</td>\n",
       "    </tr>\n",
       "    <tr>\n",
       "      <th>2021</th>\n",
       "      <td>0.135918</td>\n",
       "    </tr>\n",
       "  </tbody>\n",
       "</table>\n",
       "</div>"
      ],
      "text/plain": [
       "Symbols     ^GSPC\n",
       "2011     0.122578\n",
       "2012     0.004081\n",
       "2013     0.145146\n",
       "2014     0.252704\n",
       "2015     0.123484\n",
       "2016    -0.022126\n",
       "2017     0.121814\n",
       "2018     0.193983\n",
       "2019    -0.068914\n",
       "2020     0.297933\n",
       "2021     0.135918"
      ]
     },
     "execution_count": 27,
     "metadata": {},
     "output_type": "execute_result"
    }
   ],
   "source": [
    "ret_anuales = closes_anuales.pct_change().dropna()\n",
    "ret_anuales\n"
   ]
  },
  {
   "cell_type": "code",
   "execution_count": 28,
   "metadata": {},
   "outputs": [
    {
     "data": {
      "text/latex": [
       "$\\displaystyle 0.11878179766994577$"
      ],
      "text/plain": [
       "0.11878179766994577"
      ]
     },
     "execution_count": 28,
     "metadata": {},
     "output_type": "execute_result"
    }
   ],
   "source": [
    "ret_med_anual = ret_anuales.mean()['^GSPC']\n",
    "ret_med_anual"
   ]
  },
  {
   "cell_type": "markdown",
   "metadata": {},
   "source": [
    "**Punto 5** (7 puntos) Suponiendo que los rendimientos siguen una distribución normal, simular 10000 de rendimientos para todo un año. A partir de los rendimientos simulados, obtener los precios simulados como vimos en la clase 11."
   ]
  },
  {
   "cell_type": "code",
   "execution_count": 29,
   "metadata": {},
   "outputs": [],
   "source": [
    "def ret_sim(mu, sigma, n_days, n_esc, start):\n",
    "    dates = pd.date_range(start=start, periods=n_days)\n",
    "    return pd.DataFrame(data=sigma * np.random.randn(n_days, n_esc) + mu, index=dates)"
   ]
  },
  {
   "cell_type": "code",
   "execution_count": 30,
   "metadata": {},
   "outputs": [
    {
     "data": {
      "text/html": [
       "<div>\n",
       "<style scoped>\n",
       "    .dataframe tbody tr th:only-of-type {\n",
       "        vertical-align: middle;\n",
       "    }\n",
       "\n",
       "    .dataframe tbody tr th {\n",
       "        vertical-align: top;\n",
       "    }\n",
       "\n",
       "    .dataframe thead th {\n",
       "        text-align: right;\n",
       "    }\n",
       "</style>\n",
       "<table border=\"1\" class=\"dataframe\">\n",
       "  <thead>\n",
       "    <tr style=\"text-align: right;\">\n",
       "      <th></th>\n",
       "      <th>0</th>\n",
       "      <th>1</th>\n",
       "      <th>2</th>\n",
       "      <th>3</th>\n",
       "      <th>4</th>\n",
       "      <th>5</th>\n",
       "      <th>6</th>\n",
       "      <th>7</th>\n",
       "      <th>8</th>\n",
       "      <th>9</th>\n",
       "      <th>...</th>\n",
       "      <th>9990</th>\n",
       "      <th>9991</th>\n",
       "      <th>9992</th>\n",
       "      <th>9993</th>\n",
       "      <th>9994</th>\n",
       "      <th>9995</th>\n",
       "      <th>9996</th>\n",
       "      <th>9997</th>\n",
       "      <th>9998</th>\n",
       "      <th>9999</th>\n",
       "    </tr>\n",
       "  </thead>\n",
       "  <tbody>\n",
       "    <tr>\n",
       "      <th>2021-05-06</th>\n",
       "      <td>-0.016014</td>\n",
       "      <td>-0.015200</td>\n",
       "      <td>0.016804</td>\n",
       "      <td>0.006031</td>\n",
       "      <td>0.005707</td>\n",
       "      <td>-0.003911</td>\n",
       "      <td>0.019059</td>\n",
       "      <td>0.007741</td>\n",
       "      <td>0.015266</td>\n",
       "      <td>0.004360</td>\n",
       "      <td>...</td>\n",
       "      <td>-0.024827</td>\n",
       "      <td>-0.006674</td>\n",
       "      <td>0.007374</td>\n",
       "      <td>-0.005671</td>\n",
       "      <td>-0.004613</td>\n",
       "      <td>-0.006818</td>\n",
       "      <td>-0.010425</td>\n",
       "      <td>-0.023797</td>\n",
       "      <td>0.013011</td>\n",
       "      <td>0.010012</td>\n",
       "    </tr>\n",
       "    <tr>\n",
       "      <th>2021-05-07</th>\n",
       "      <td>-0.004116</td>\n",
       "      <td>0.005521</td>\n",
       "      <td>0.010398</td>\n",
       "      <td>-0.025254</td>\n",
       "      <td>-0.001388</td>\n",
       "      <td>0.001687</td>\n",
       "      <td>0.021567</td>\n",
       "      <td>0.004561</td>\n",
       "      <td>-0.008788</td>\n",
       "      <td>-0.018045</td>\n",
       "      <td>...</td>\n",
       "      <td>-0.008778</td>\n",
       "      <td>-0.018092</td>\n",
       "      <td>-0.005932</td>\n",
       "      <td>0.005700</td>\n",
       "      <td>-0.009082</td>\n",
       "      <td>-0.003338</td>\n",
       "      <td>-0.005440</td>\n",
       "      <td>0.002163</td>\n",
       "      <td>-0.012634</td>\n",
       "      <td>-0.010813</td>\n",
       "    </tr>\n",
       "    <tr>\n",
       "      <th>2021-05-08</th>\n",
       "      <td>-0.003341</td>\n",
       "      <td>0.008931</td>\n",
       "      <td>0.005487</td>\n",
       "      <td>0.000325</td>\n",
       "      <td>-0.005211</td>\n",
       "      <td>0.000793</td>\n",
       "      <td>-0.011936</td>\n",
       "      <td>-0.010572</td>\n",
       "      <td>-0.002327</td>\n",
       "      <td>-0.004339</td>\n",
       "      <td>...</td>\n",
       "      <td>-0.003072</td>\n",
       "      <td>0.010285</td>\n",
       "      <td>0.006081</td>\n",
       "      <td>-0.001286</td>\n",
       "      <td>0.003525</td>\n",
       "      <td>-0.014518</td>\n",
       "      <td>0.000389</td>\n",
       "      <td>0.014101</td>\n",
       "      <td>-0.010335</td>\n",
       "      <td>0.025824</td>\n",
       "    </tr>\n",
       "    <tr>\n",
       "      <th>2021-05-09</th>\n",
       "      <td>0.006319</td>\n",
       "      <td>-0.004082</td>\n",
       "      <td>-0.002923</td>\n",
       "      <td>-0.002995</td>\n",
       "      <td>-0.005963</td>\n",
       "      <td>-0.016284</td>\n",
       "      <td>-0.009236</td>\n",
       "      <td>0.010647</td>\n",
       "      <td>0.006632</td>\n",
       "      <td>0.016601</td>\n",
       "      <td>...</td>\n",
       "      <td>-0.016911</td>\n",
       "      <td>-0.019668</td>\n",
       "      <td>-0.013839</td>\n",
       "      <td>0.028845</td>\n",
       "      <td>-0.002424</td>\n",
       "      <td>0.009579</td>\n",
       "      <td>0.006252</td>\n",
       "      <td>-0.014099</td>\n",
       "      <td>-0.015780</td>\n",
       "      <td>-0.003177</td>\n",
       "    </tr>\n",
       "    <tr>\n",
       "      <th>2021-05-10</th>\n",
       "      <td>0.002346</td>\n",
       "      <td>-0.001269</td>\n",
       "      <td>0.001638</td>\n",
       "      <td>0.024971</td>\n",
       "      <td>-0.002956</td>\n",
       "      <td>0.015965</td>\n",
       "      <td>-0.001127</td>\n",
       "      <td>0.000020</td>\n",
       "      <td>-0.000943</td>\n",
       "      <td>-0.009284</td>\n",
       "      <td>...</td>\n",
       "      <td>-0.016261</td>\n",
       "      <td>-0.009327</td>\n",
       "      <td>-0.008032</td>\n",
       "      <td>0.010042</td>\n",
       "      <td>0.008900</td>\n",
       "      <td>-0.002782</td>\n",
       "      <td>-0.004725</td>\n",
       "      <td>-0.011714</td>\n",
       "      <td>0.005091</td>\n",
       "      <td>0.011226</td>\n",
       "    </tr>\n",
       "  </tbody>\n",
       "</table>\n",
       "<p>5 rows × 10000 columns</p>\n",
       "</div>"
      ],
      "text/plain": [
       "                0         1         2         3         4         5     \\\n",
       "2021-05-06 -0.016014 -0.015200  0.016804  0.006031  0.005707 -0.003911   \n",
       "2021-05-07 -0.004116  0.005521  0.010398 -0.025254 -0.001388  0.001687   \n",
       "2021-05-08 -0.003341  0.008931  0.005487  0.000325 -0.005211  0.000793   \n",
       "2021-05-09  0.006319 -0.004082 -0.002923 -0.002995 -0.005963 -0.016284   \n",
       "2021-05-10  0.002346 -0.001269  0.001638  0.024971 -0.002956  0.015965   \n",
       "\n",
       "                6         7         8         9     ...      9990      9991  \\\n",
       "2021-05-06  0.019059  0.007741  0.015266  0.004360  ... -0.024827 -0.006674   \n",
       "2021-05-07  0.021567  0.004561 -0.008788 -0.018045  ... -0.008778 -0.018092   \n",
       "2021-05-08 -0.011936 -0.010572 -0.002327 -0.004339  ... -0.003072  0.010285   \n",
       "2021-05-09 -0.009236  0.010647  0.006632  0.016601  ... -0.016911 -0.019668   \n",
       "2021-05-10 -0.001127  0.000020 -0.000943 -0.009284  ... -0.016261 -0.009327   \n",
       "\n",
       "                9992      9993      9994      9995      9996      9997  \\\n",
       "2021-05-06  0.007374 -0.005671 -0.004613 -0.006818 -0.010425 -0.023797   \n",
       "2021-05-07 -0.005932  0.005700 -0.009082 -0.003338 -0.005440  0.002163   \n",
       "2021-05-08  0.006081 -0.001286  0.003525 -0.014518  0.000389  0.014101   \n",
       "2021-05-09 -0.013839  0.028845 -0.002424  0.009579  0.006252 -0.014099   \n",
       "2021-05-10 -0.008032  0.010042  0.008900 -0.002782 -0.004725 -0.011714   \n",
       "\n",
       "                9998      9999  \n",
       "2021-05-06  0.013011  0.010012  \n",
       "2021-05-07 -0.012634 -0.010813  \n",
       "2021-05-08 -0.010335  0.025824  \n",
       "2021-05-09 -0.015780 -0.003177  \n",
       "2021-05-10  0.005091  0.011226  \n",
       "\n",
       "[5 rows x 10000 columns]"
      ]
     },
     "execution_count": 30,
     "metadata": {},
     "output_type": "execute_result"
    }
   ],
   "source": [
    "n_esc = 10000\n",
    "n_days = 255\n",
    "sim_ret = ret_sim(mu, sigma, n_days, n_esc, start='2021-05-06')\n",
    "sim_ret.head()"
   ]
  },
  {
   "cell_type": "code",
   "execution_count": 31,
   "metadata": {},
   "outputs": [
    {
     "data": {
      "text/html": [
       "<div>\n",
       "<style scoped>\n",
       "    .dataframe tbody tr th:only-of-type {\n",
       "        vertical-align: middle;\n",
       "    }\n",
       "\n",
       "    .dataframe tbody tr th {\n",
       "        vertical-align: top;\n",
       "    }\n",
       "\n",
       "    .dataframe thead th {\n",
       "        text-align: right;\n",
       "    }\n",
       "</style>\n",
       "<table border=\"1\" class=\"dataframe\">\n",
       "  <thead>\n",
       "    <tr style=\"text-align: right;\">\n",
       "      <th></th>\n",
       "      <th>0</th>\n",
       "      <th>1</th>\n",
       "      <th>2</th>\n",
       "      <th>3</th>\n",
       "      <th>4</th>\n",
       "      <th>5</th>\n",
       "      <th>6</th>\n",
       "      <th>7</th>\n",
       "      <th>8</th>\n",
       "      <th>9</th>\n",
       "      <th>...</th>\n",
       "      <th>9990</th>\n",
       "      <th>9991</th>\n",
       "      <th>9992</th>\n",
       "      <th>9993</th>\n",
       "      <th>9994</th>\n",
       "      <th>9995</th>\n",
       "      <th>9996</th>\n",
       "      <th>9997</th>\n",
       "      <th>9998</th>\n",
       "      <th>9999</th>\n",
       "    </tr>\n",
       "  </thead>\n",
       "  <tbody>\n",
       "    <tr>\n",
       "      <th>2021-05-06</th>\n",
       "      <td>4134.334375</td>\n",
       "      <td>4137.756906</td>\n",
       "      <td>4272.225850</td>\n",
       "      <td>4226.958189</td>\n",
       "      <td>4225.599429</td>\n",
       "      <td>4185.187404</td>\n",
       "      <td>4281.700484</td>\n",
       "      <td>4234.143053</td>\n",
       "      <td>4265.761826</td>\n",
       "      <td>4219.938589</td>\n",
       "      <td>...</td>\n",
       "      <td>4097.306412</td>\n",
       "      <td>4173.577837</td>\n",
       "      <td>4232.601716</td>\n",
       "      <td>4177.794104</td>\n",
       "      <td>4182.236582</td>\n",
       "      <td>4172.973446</td>\n",
       "      <td>4157.819730</td>\n",
       "      <td>4101.635464</td>\n",
       "      <td>4256.288174</td>\n",
       "      <td>4243.686192</td>\n",
       "    </tr>\n",
       "    <tr>\n",
       "      <th>2021-05-07</th>\n",
       "      <td>4117.317213</td>\n",
       "      <td>4160.602577</td>\n",
       "      <td>4316.650495</td>\n",
       "      <td>4120.212330</td>\n",
       "      <td>4219.734944</td>\n",
       "      <td>4192.247888</td>\n",
       "      <td>4374.041964</td>\n",
       "      <td>4253.453031</td>\n",
       "      <td>4228.274425</td>\n",
       "      <td>4143.791304</td>\n",
       "      <td>...</td>\n",
       "      <td>4061.339969</td>\n",
       "      <td>4098.069306</td>\n",
       "      <td>4207.496035</td>\n",
       "      <td>4201.607526</td>\n",
       "      <td>4144.255053</td>\n",
       "      <td>4159.042195</td>\n",
       "      <td>4135.202734</td>\n",
       "      <td>4110.505406</td>\n",
       "      <td>4202.515675</td>\n",
       "      <td>4197.800486</td>\n",
       "    </tr>\n",
       "    <tr>\n",
       "      <th>2021-05-08</th>\n",
       "      <td>4103.562938</td>\n",
       "      <td>4197.760772</td>\n",
       "      <td>4340.338021</td>\n",
       "      <td>4121.550153</td>\n",
       "      <td>4197.746873</td>\n",
       "      <td>4195.572089</td>\n",
       "      <td>4321.834588</td>\n",
       "      <td>4208.486001</td>\n",
       "      <td>4218.437183</td>\n",
       "      <td>4125.813138</td>\n",
       "      <td>...</td>\n",
       "      <td>4048.864615</td>\n",
       "      <td>4140.218466</td>\n",
       "      <td>4233.083526</td>\n",
       "      <td>4196.203007</td>\n",
       "      <td>4158.862854</td>\n",
       "      <td>4098.662953</td>\n",
       "      <td>4136.809793</td>\n",
       "      <td>4168.468956</td>\n",
       "      <td>4159.082462</td>\n",
       "      <td>4306.203737</td>\n",
       "    </tr>\n",
       "    <tr>\n",
       "      <th>2021-05-09</th>\n",
       "      <td>4129.492436</td>\n",
       "      <td>4180.627208</td>\n",
       "      <td>4327.650894</td>\n",
       "      <td>4109.204570</td>\n",
       "      <td>4172.715251</td>\n",
       "      <td>4127.250114</td>\n",
       "      <td>4281.919836</td>\n",
       "      <td>4253.294030</td>\n",
       "      <td>4246.414691</td>\n",
       "      <td>4194.306465</td>\n",
       "      <td>...</td>\n",
       "      <td>3980.393096</td>\n",
       "      <td>4058.790010</td>\n",
       "      <td>4174.501959</td>\n",
       "      <td>4317.241498</td>\n",
       "      <td>4148.783255</td>\n",
       "      <td>4137.922219</td>\n",
       "      <td>4162.673450</td>\n",
       "      <td>4109.697976</td>\n",
       "      <td>4093.453920</td>\n",
       "      <td>4292.522299</td>\n",
       "    </tr>\n",
       "    <tr>\n",
       "      <th>2021-05-10</th>\n",
       "      <td>4139.179096</td>\n",
       "      <td>4175.322758</td>\n",
       "      <td>4334.738683</td>\n",
       "      <td>4211.814347</td>\n",
       "      <td>4160.380299</td>\n",
       "      <td>4193.141115</td>\n",
       "      <td>4277.094167</td>\n",
       "      <td>4253.380852</td>\n",
       "      <td>4242.410461</td>\n",
       "      <td>4155.365453</td>\n",
       "      <td>...</td>\n",
       "      <td>3915.667536</td>\n",
       "      <td>4020.932603</td>\n",
       "      <td>4140.970861</td>\n",
       "      <td>4360.593328</td>\n",
       "      <td>4185.707649</td>\n",
       "      <td>4126.411324</td>\n",
       "      <td>4143.004099</td>\n",
       "      <td>4061.557372</td>\n",
       "      <td>4114.293749</td>\n",
       "      <td>4340.708504</td>\n",
       "    </tr>\n",
       "    <tr>\n",
       "      <th>...</th>\n",
       "      <td>...</td>\n",
       "      <td>...</td>\n",
       "      <td>...</td>\n",
       "      <td>...</td>\n",
       "      <td>...</td>\n",
       "      <td>...</td>\n",
       "      <td>...</td>\n",
       "      <td>...</td>\n",
       "      <td>...</td>\n",
       "      <td>...</td>\n",
       "      <td>...</td>\n",
       "      <td>...</td>\n",
       "      <td>...</td>\n",
       "      <td>...</td>\n",
       "      <td>...</td>\n",
       "      <td>...</td>\n",
       "      <td>...</td>\n",
       "      <td>...</td>\n",
       "      <td>...</td>\n",
       "      <td>...</td>\n",
       "      <td>...</td>\n",
       "    </tr>\n",
       "    <tr>\n",
       "      <th>2022-01-11</th>\n",
       "      <td>5474.978746</td>\n",
       "      <td>4226.803109</td>\n",
       "      <td>5625.982963</td>\n",
       "      <td>4807.970965</td>\n",
       "      <td>3968.111506</td>\n",
       "      <td>4194.195400</td>\n",
       "      <td>4018.179916</td>\n",
       "      <td>4026.127769</td>\n",
       "      <td>6109.518893</td>\n",
       "      <td>5163.521516</td>\n",
       "      <td>...</td>\n",
       "      <td>4524.540249</td>\n",
       "      <td>4233.446022</td>\n",
       "      <td>5674.160975</td>\n",
       "      <td>4314.552164</td>\n",
       "      <td>4668.721596</td>\n",
       "      <td>4571.879101</td>\n",
       "      <td>4849.548538</td>\n",
       "      <td>2899.162655</td>\n",
       "      <td>4822.571697</td>\n",
       "      <td>4862.121812</td>\n",
       "    </tr>\n",
       "    <tr>\n",
       "      <th>2022-01-12</th>\n",
       "      <td>5496.963664</td>\n",
       "      <td>4200.005545</td>\n",
       "      <td>5692.363951</td>\n",
       "      <td>4684.662248</td>\n",
       "      <td>3889.670837</td>\n",
       "      <td>4194.092244</td>\n",
       "      <td>4033.679948</td>\n",
       "      <td>4023.668054</td>\n",
       "      <td>6238.386317</td>\n",
       "      <td>5153.177125</td>\n",
       "      <td>...</td>\n",
       "      <td>4466.982740</td>\n",
       "      <td>4223.379369</td>\n",
       "      <td>5669.549041</td>\n",
       "      <td>4289.699604</td>\n",
       "      <td>4689.121249</td>\n",
       "      <td>4563.332922</td>\n",
       "      <td>4858.980882</td>\n",
       "      <td>2888.122277</td>\n",
       "      <td>4759.207199</td>\n",
       "      <td>4942.556135</td>\n",
       "    </tr>\n",
       "    <tr>\n",
       "      <th>2022-01-13</th>\n",
       "      <td>5370.147758</td>\n",
       "      <td>4265.314133</td>\n",
       "      <td>5758.550380</td>\n",
       "      <td>4581.076799</td>\n",
       "      <td>3897.031583</td>\n",
       "      <td>4227.880259</td>\n",
       "      <td>3978.847516</td>\n",
       "      <td>3961.162501</td>\n",
       "      <td>6297.984343</td>\n",
       "      <td>5068.783147</td>\n",
       "      <td>...</td>\n",
       "      <td>4533.603291</td>\n",
       "      <td>4243.391060</td>\n",
       "      <td>5667.773560</td>\n",
       "      <td>4342.596970</td>\n",
       "      <td>4659.421597</td>\n",
       "      <td>4616.373644</td>\n",
       "      <td>4863.052765</td>\n",
       "      <td>2920.645514</td>\n",
       "      <td>4696.922255</td>\n",
       "      <td>5047.739350</td>\n",
       "    </tr>\n",
       "    <tr>\n",
       "      <th>2022-01-14</th>\n",
       "      <td>5422.665054</td>\n",
       "      <td>4282.653865</td>\n",
       "      <td>5773.093447</td>\n",
       "      <td>4605.649725</td>\n",
       "      <td>3944.698590</td>\n",
       "      <td>4244.272292</td>\n",
       "      <td>4003.999180</td>\n",
       "      <td>4022.722497</td>\n",
       "      <td>6379.890250</td>\n",
       "      <td>5026.356385</td>\n",
       "      <td>...</td>\n",
       "      <td>4632.215762</td>\n",
       "      <td>4241.392400</td>\n",
       "      <td>5819.807919</td>\n",
       "      <td>4401.599081</td>\n",
       "      <td>4687.268339</td>\n",
       "      <td>4589.076569</td>\n",
       "      <td>4879.909298</td>\n",
       "      <td>2915.871965</td>\n",
       "      <td>4764.904753</td>\n",
       "      <td>5034.214101</td>\n",
       "    </tr>\n",
       "    <tr>\n",
       "      <th>2022-01-15</th>\n",
       "      <td>5327.765012</td>\n",
       "      <td>4271.638157</td>\n",
       "      <td>5769.656467</td>\n",
       "      <td>4557.520323</td>\n",
       "      <td>4005.514008</td>\n",
       "      <td>4245.347995</td>\n",
       "      <td>4020.694082</td>\n",
       "      <td>3987.777987</td>\n",
       "      <td>6369.544691</td>\n",
       "      <td>5097.362079</td>\n",
       "      <td>...</td>\n",
       "      <td>4596.181733</td>\n",
       "      <td>4218.344450</td>\n",
       "      <td>5783.148618</td>\n",
       "      <td>4405.738168</td>\n",
       "      <td>4673.362423</td>\n",
       "      <td>4624.447487</td>\n",
       "      <td>4846.085599</td>\n",
       "      <td>2912.769392</td>\n",
       "      <td>4715.430719</td>\n",
       "      <td>4933.592332</td>\n",
       "    </tr>\n",
       "  </tbody>\n",
       "</table>\n",
       "<p>255 rows × 10000 columns</p>\n",
       "</div>"
      ],
      "text/plain": [
       "                   0            1            2            3            4     \\\n",
       "2021-05-06  4134.334375  4137.756906  4272.225850  4226.958189  4225.599429   \n",
       "2021-05-07  4117.317213  4160.602577  4316.650495  4120.212330  4219.734944   \n",
       "2021-05-08  4103.562938  4197.760772  4340.338021  4121.550153  4197.746873   \n",
       "2021-05-09  4129.492436  4180.627208  4327.650894  4109.204570  4172.715251   \n",
       "2021-05-10  4139.179096  4175.322758  4334.738683  4211.814347  4160.380299   \n",
       "...                 ...          ...          ...          ...          ...   \n",
       "2022-01-11  5474.978746  4226.803109  5625.982963  4807.970965  3968.111506   \n",
       "2022-01-12  5496.963664  4200.005545  5692.363951  4684.662248  3889.670837   \n",
       "2022-01-13  5370.147758  4265.314133  5758.550380  4581.076799  3897.031583   \n",
       "2022-01-14  5422.665054  4282.653865  5773.093447  4605.649725  3944.698590   \n",
       "2022-01-15  5327.765012  4271.638157  5769.656467  4557.520323  4005.514008   \n",
       "\n",
       "                   5            6            7            8            9     \\\n",
       "2021-05-06  4185.187404  4281.700484  4234.143053  4265.761826  4219.938589   \n",
       "2021-05-07  4192.247888  4374.041964  4253.453031  4228.274425  4143.791304   \n",
       "2021-05-08  4195.572089  4321.834588  4208.486001  4218.437183  4125.813138   \n",
       "2021-05-09  4127.250114  4281.919836  4253.294030  4246.414691  4194.306465   \n",
       "2021-05-10  4193.141115  4277.094167  4253.380852  4242.410461  4155.365453   \n",
       "...                 ...          ...          ...          ...          ...   \n",
       "2022-01-11  4194.195400  4018.179916  4026.127769  6109.518893  5163.521516   \n",
       "2022-01-12  4194.092244  4033.679948  4023.668054  6238.386317  5153.177125   \n",
       "2022-01-13  4227.880259  3978.847516  3961.162501  6297.984343  5068.783147   \n",
       "2022-01-14  4244.272292  4003.999180  4022.722497  6379.890250  5026.356385   \n",
       "2022-01-15  4245.347995  4020.694082  3987.777987  6369.544691  5097.362079   \n",
       "\n",
       "            ...         9990         9991         9992         9993  \\\n",
       "2021-05-06  ...  4097.306412  4173.577837  4232.601716  4177.794104   \n",
       "2021-05-07  ...  4061.339969  4098.069306  4207.496035  4201.607526   \n",
       "2021-05-08  ...  4048.864615  4140.218466  4233.083526  4196.203007   \n",
       "2021-05-09  ...  3980.393096  4058.790010  4174.501959  4317.241498   \n",
       "2021-05-10  ...  3915.667536  4020.932603  4140.970861  4360.593328   \n",
       "...         ...          ...          ...          ...          ...   \n",
       "2022-01-11  ...  4524.540249  4233.446022  5674.160975  4314.552164   \n",
       "2022-01-12  ...  4466.982740  4223.379369  5669.549041  4289.699604   \n",
       "2022-01-13  ...  4533.603291  4243.391060  5667.773560  4342.596970   \n",
       "2022-01-14  ...  4632.215762  4241.392400  5819.807919  4401.599081   \n",
       "2022-01-15  ...  4596.181733  4218.344450  5783.148618  4405.738168   \n",
       "\n",
       "                   9994         9995         9996         9997         9998  \\\n",
       "2021-05-06  4182.236582  4172.973446  4157.819730  4101.635464  4256.288174   \n",
       "2021-05-07  4144.255053  4159.042195  4135.202734  4110.505406  4202.515675   \n",
       "2021-05-08  4158.862854  4098.662953  4136.809793  4168.468956  4159.082462   \n",
       "2021-05-09  4148.783255  4137.922219  4162.673450  4109.697976  4093.453920   \n",
       "2021-05-10  4185.707649  4126.411324  4143.004099  4061.557372  4114.293749   \n",
       "...                 ...          ...          ...          ...          ...   \n",
       "2022-01-11  4668.721596  4571.879101  4849.548538  2899.162655  4822.571697   \n",
       "2022-01-12  4689.121249  4563.332922  4858.980882  2888.122277  4759.207199   \n",
       "2022-01-13  4659.421597  4616.373644  4863.052765  2920.645514  4696.922255   \n",
       "2022-01-14  4687.268339  4589.076569  4879.909298  2915.871965  4764.904753   \n",
       "2022-01-15  4673.362423  4624.447487  4846.085599  2912.769392  4715.430719   \n",
       "\n",
       "                   9999  \n",
       "2021-05-06  4243.686192  \n",
       "2021-05-07  4197.800486  \n",
       "2021-05-08  4306.203737  \n",
       "2021-05-09  4292.522299  \n",
       "2021-05-10  4340.708504  \n",
       "...                 ...  \n",
       "2022-01-11  4862.121812  \n",
       "2022-01-12  4942.556135  \n",
       "2022-01-13  5047.739350  \n",
       "2022-01-14  5034.214101  \n",
       "2022-01-15  4933.592332  \n",
       "\n",
       "[255 rows x 10000 columns]"
      ]
     },
     "execution_count": 31,
     "metadata": {},
     "output_type": "execute_result"
    }
   ],
   "source": [
    "ultimo_precio = closes.iloc[-1]['^GSPC']\n",
    "sim_precio = ultimo_precio * (1 + sim_ret).cumprod()\n",
    "ultimo_precio\n",
    "sim_precio"
   ]
  },
  {
   "cell_type": "markdown",
   "metadata": {},
   "source": [
    "**Punto 6** (8 puntos) Calcular y graficar la probabilidad de que el precio del índice supere el rendimiento medio de los últimos 10 años que calculaste en el punto 4."
   ]
  },
  {
   "cell_type": "code",
   "execution_count": 61,
   "metadata": {},
   "outputs": [
    {
     "data": {
      "text/latex": [
       "$\\displaystyle 4700.696107833239$"
      ],
      "text/plain": [
       "4700.696107833239"
      ]
     },
     "execution_count": 61,
     "metadata": {},
     "output_type": "execute_result"
    }
   ],
   "source": [
    "umbral = (1+ret_med_anual ) * ultimo_precio\n",
    "umbral\n"
   ]
  },
  {
   "cell_type": "code",
   "execution_count": 62,
   "metadata": {},
   "outputs": [
    {
     "data": {
      "image/png": "[encoded data removed]",
      "text/plain": [
       "<Figure size 432x288 with 1 Axes>"
      ]
     },
     "metadata": {
      "needs_background": "light"
     },
     "output_type": "display_data"
    }
   ],
   "source": [
    "\n",
    "conteo = sim_precio > umbral\n",
    "prob_est = conteo.sum(axis=1) / n_esc\n",
    "prob_est.plot();"
   ]
  },
  {
   "cell_type": "code",
   "execution_count": 63,
   "metadata": {},
   "outputs": [],
   "source": [
    "closes_GSPC_2011 = get_closes(tickers=['^GSPC'],\n",
    "                              start_date='2011-01-01',\n",
    "                              end_date='2020-12-31')"
   ]
  },
  {
   "cell_type": "code",
   "execution_count": 64,
   "metadata": {},
   "outputs": [
    {
     "data": {
      "image/png": "[encoded data removed]",
      "text/plain": [
       "<Figure size 432x288 with 1 Axes>"
      ]
     },
     "metadata": {
      "needs_background": "light"
     },
     "output_type": "display_data"
    }
   ],
   "source": [
    "closes_GSPC_2011.plot();"
   ]
  },
  {
   "cell_type": "markdown",
   "metadata": {},
   "source": [
    "___\n",
    "## III. Ecuaciones diferenciales - Comparación de solución simbólica y solución numérica de la ecuación diferencial de Euler (33 puntos)"
   ]
  },
  {
   "cell_type": "markdown",
   "metadata": {},
   "source": [
    "Considere la ecuación diferencial:\n",
    "\n",
    "$$\n",
    "x^2 \\frac{d^2 y}{d x^2} + 2 x \\frac{d y}{d x} - 2 x = 0; \\quad y(1) = 0, \\quad \\left.\\frac{dy}{dx}\\right|_{x=1} = 1.\n",
    "$$"
   ]
  },
  {
   "cell_type": "markdown",
   "metadata": {},
   "source": [
    "**Punto 1** (10 puntos) Resolver la ecuación diferencial de manera simbólica usando `sympy`, y usar las condiciones iniciales para encontrar el valor de las constantes."
   ]
  },
  {
   "cell_type": "code",
   "execution_count": 35,
   "metadata": {},
   "outputs": [],
   "source": [
    "sym.var(\"x y\")\n",
    "y = sym.Function('y')"
   ]
  },
  {
   "cell_type": "code",
   "execution_count": 36,
   "metadata": {},
   "outputs": [
    {
     "data": {
      "text/latex": [
       "$\\displaystyle x^{2} \\frac{d^{2}}{d x^{2}} y{\\left(x \\right)} + 2 x \\frac{d}{d x} y{\\left(x \\right)} - 2 x = 0$"
      ],
      "text/plain": [
       "     2                               \n",
       " 2  d              d                 \n",
       "x ⋅───(y(x)) + 2⋅x⋅──(y(x)) - 2⋅x = 0\n",
       "     2             dx                \n",
       "   dx                                "
      ]
     },
     "metadata": {},
     "output_type": "display_data"
    },
    {
     "data": {
      "text/latex": [
       "$\\displaystyle y{\\left(x \\right)} = C_{1} + \\frac{C_{2}}{x} + x$"
      ],
      "text/plain": [
       "            C₂    \n",
       "y(x) = C₁ + ── + x\n",
       "            x     "
      ]
     },
     "execution_count": 36,
     "metadata": {},
     "output_type": "execute_result"
    }
   ],
   "source": [
    "eq = sym.Eq( x**2 *sym.Derivative(y(x), x,2) + 2*x *sym.Derivative(y(x), x) - 2 * x, 0)\n",
    "display(eq)\n",
    "sym.dsolve(eq, y(x))"
   ]
  },
  {
   "cell_type": "code",
   "execution_count": 68,
   "metadata": {},
   "outputs": [
    {
     "data": {
      "text/latex": [
       "$\\displaystyle 0.0$"
      ],
      "text/plain": [
       "0.0"
      ]
     },
     "execution_count": 68,
     "metadata": {},
     "output_type": "execute_result"
    }
   ],
   "source": [
    "c2 = 1 - (1 / 1**2)\n",
    "c2"
   ]
  },
  {
   "cell_type": "code",
   "execution_count": 69,
   "metadata": {},
   "outputs": [
    {
     "data": {
      "text/latex": [
       "$\\displaystyle 1.0$"
      ],
      "text/plain": [
       "1.0"
      ]
     },
     "execution_count": 69,
     "metadata": {},
     "output_type": "execute_result"
    }
   ],
   "source": [
    "c1 = c2 + 1\n",
    "c1"
   ]
  },
  {
   "cell_type": "markdown",
   "metadata": {},
   "source": [
    "**Punto 2** (3 puntos) Definir en python la función $y_{ex}(x)$ de la solución exacta de la ecuación diferencial encontrada en el punto 1."
   ]
  },
  {
   "cell_type": "code",
   "execution_count": 37,
   "metadata": {},
   "outputs": [],
   "source": [
    "def y_x (x):\n",
    "    return (x-1)"
   ]
  },
  {
   "cell_type": "code",
   "execution_count": 38,
   "metadata": {},
   "outputs": [
    {
     "data": {
      "text/latex": [
       "$\\displaystyle 0$"
      ],
      "text/plain": [
       "0"
      ]
     },
     "execution_count": 38,
     "metadata": {},
     "output_type": "execute_result"
    }
   ],
   "source": [
    "y_x(1)"
   ]
  },
  {
   "cell_type": "markdown",
   "metadata": {},
   "source": [
    "**Punto 3** (10 puntos) Resolver la ecuación diferencial de forma numérica, y graficar la solución exacta y la numérica en un mismo gráfico."
   ]
  },
  {
   "cell_type": "code",
   "execution_count": 107,
   "metadata": {},
   "outputs": [],
   "source": [
    "from scipy.integrate import odeint\n",
    "from sympy import limit, Symbol\n",
    "from sympy import limit, oo, Symbol"
   ]
  },
  {
   "cell_type": "code",
   "execution_count": 108,
   "metadata": {},
   "outputs": [],
   "source": [
    "def amortiguado(y,  x):\n",
    "    y1 = y[1]\n",
    "    y2 = y[1]\n",
    "    return np.array([y2, (-2 * y2 / y1) + (2 / y1)])"
   ]
  },
  {
   "cell_type": "code",
   "execution_count": 109,
   "metadata": {},
   "outputs": [],
   "source": [
    "y0 = np.array([0, 1])\n",
    "t = np.linspace(1, 30)"
   ]
  },
  {
   "cell_type": "code",
   "execution_count": 110,
   "metadata": {},
   "outputs": [],
   "source": [
    "y = odeint(func=amortiguado,\n",
    "           y0=y0, \n",
    "           t=t)\n",
    "y1 = y[:,0]\n",
    "y2 = y[:,1]"
   ]
  },
  {
   "cell_type": "code",
   "execution_count": 111,
   "metadata": {},
   "outputs": [
    {
     "data": {
      "text/plain": [
       "[<matplotlib.lines.Line2D at 0x123f891c0>]"
      ]
     },
     "execution_count": 111,
     "metadata": {},
     "output_type": "execute_result"
    },
    {
     "data": {
      "image/png": "[encoded data removed]",
      "text/plain": [
       "<Figure size 432x288 with 1 Axes>"
      ]
     },
     "metadata": {
      "needs_background": "light"
     },
     "output_type": "display_data"
    }
   ],
   "source": [
    "plt.plot (t,y1)\n",
    "plt.plot (t,y_x(t),\"gx\")\n"
   ]
  },
  {
   "cell_type": "markdown",
   "metadata": {},
   "source": [
    "**Punto 4** (10 puntos) ¿Qué pasa con la solución de la ecuación diferencial cuando $x$ tiende a $\\infty$ (infinito)?"
   ]
  },
  {
   "cell_type": "code",
   "execution_count": 112,
   "metadata": {},
   "outputs": [
    {
     "data": {
      "text/latex": [
       "$\\displaystyle \\infty$"
      ],
      "text/plain": [
       "∞"
      ]
     },
     "execution_count": 112,
     "metadata": {},
     "output_type": "execute_result"
    }
   ],
   "source": [
    "x = Symbol(\"x\")\n",
    "limit(y_x(x),x,oo)\n"
   ]
  },
  {
   "cell_type": "markdown",
   "metadata": {},
   "source": [
    "<script>\n",
    "  $(document).ready(function(){\n",
    "    $('div.prompt').hide();\n",
    "    $('div.back-to-top').hide();\n",
    "    $('nav#menubar').hide();\n",
    "    $('.breadcrumb').hide();\n",
    "    $('.hidden-print').hide();\n",
    "  });\n",
    "</script>\n",
    "\n",
    "<footer id=\"attribution\" style=\"float:right; color:#808080; background:#fff;\">\n",
    "Created with Jupyter by Esteban Jiménez Rodríguez.\n",
    "</footer>"
   ]
  }
 ],
 "metadata": {
  "kernelspec": {
   "display_name": "Python 3",
   "language": "python",
   "name": "python3"
  },
  "language_info": {
   "codemirror_mode": {
    "name": "ipython",
    "version": 3
   },
   "file_extension": ".py",
   "mimetype": "text/x-python",
   "name": "python",
   "nbconvert_exporter": "python",
   "pygments_lexer": "ipython3",
   "version": "3.8.8"
  }
 },
 "nbformat": 4,
 "nbformat_minor": 2
}
