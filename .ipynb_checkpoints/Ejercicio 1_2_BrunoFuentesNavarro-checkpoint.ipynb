{
 "cells": [
  {
   "cell_type": "markdown",
   "metadata": {},
   "source": [
    "# Ejercicios de Programación lineal"
   ]
  },
  {
   "cell_type": "markdown",
   "metadata": {},
   "source": [
    "#### Plantee el problema en celdas de `Markdown` y resuelva usando la función `linprog` de la librería `SciPy`"
   ]
  },
  {
   "cell_type": "markdown",
   "metadata": {},
   "source": [
    "1. Una fábrica produce focos incandesentes y los vende a 4.5 u.m., además de focos ahorradores que vende a 6 u.m. cada uno. La producción está limitada a 400 focos incandesentes y 300 focos ahorradores al día, además de no poder producir más de 500 focos en total.\n",
    "\n",
    "Si la fábrica vende toda su producción, determina cuántos focos incandesentes y cuántos focos ahorradores debe producir para obtener los máximos ingresos posibles y cuáles serían éstos."
   ]
  },
  {
   "cell_type": "markdown",
   "metadata": {},
   "source": [
    "### Datos de incio para idealizar el problema, donde:\n",
    "\n",
    "Focos incandesentes: $4.5 u.m$ ,Focos ahorradores: $6 u.m$\n",
    "\n",
    "$f_i$ = focos incandesentes,$f_a$ = focos ahorradores\n",
    "\n",
    "### Se desea \"maximizar\" la produccion de focos, por lo tanto:\n",
    "\n",
    "$-4.5f_i-6f_a$\n",
    "\n",
    "### Condiciones de frontera(Restricciones a tomar en cuenta):\n",
    "1. $f_a\\leq300$\n",
    "2. $f_i\\leq400$\n",
    "3. $f_i+f_a\\leq500$\n",
    "\n"
   ]
  },
  {
   "cell_type": "code",
   "execution_count": 1,
   "metadata": {},
   "outputs": [],
   "source": [
    "#Se importan las librerias a utilizar:\n",
    "import scipy.optimize as opt\n",
    "import numpy as np\n"
   ]
  },
  {
   "cell_type": "code",
   "execution_count": 3,
   "metadata": {},
   "outputs": [
    {
     "data": {
      "text/plain": [
       "     con: array([], dtype=float64)\n",
       "     fun: -2700.0\n",
       " message: 'Optimization terminated successfully.'\n",
       "     nit: 3\n",
       "   slack: array([  0., 200.,   0.])\n",
       "  status: 0\n",
       " success: True\n",
       "       x: array([200., 300.])"
      ]
     },
     "execution_count": 3,
     "metadata": {},
     "output_type": "execute_result"
    }
   ],
   "source": [
    "A=np.array([[1,1],[1,0],[0,1]])\n",
    "b=np.array([500,400,300])\n",
    "c=np.array([-4.5,-6])\n",
    "opt.linprog(c,A,b,method='simplex')"
   ]
  },
  {
   "cell_type": "markdown",
   "metadata": {},
   "source": [
    "Por lo tanto los ingresos máximos serian de:  \n",
    "$2700 u.m$ \n",
    "\n",
    "Debera de producir $200$ focos incandesentes y $300$ focos ahorradores para llegar a esos $2700 u.m$ "
   ]
  },
  {
   "cell_type": "markdown",
   "metadata": {},
   "source": [
    "2. Un frutero necesita 16 cajas de naranjas, 5 de plátanos y 20 de manzanas. Dos mayoristas pueden suministrarle para satisfacer sus necesidades, pero sólo venden la fruta en contenedores completos. El mayorista A envía en cada contenedor 8 cajas de naranjas, 1 de plátanos y 2 de manzanas. El mayorista B envía en cada contenedor 2 cajas de naranjas, una de plátanos y 7 de manzanas. Sabiendo que cada contenedor del mayorista A tiene un costo de 150 u.m. y el contenedor del mayorista B de 300 u.m., calcular cuántos contenedores habrá de comprar a cada mayorista, con objeto de reducir al mínimo el costo de lo solicitado."
   ]
  },
  {
   "cell_type": "markdown",
   "metadata": {},
   "source": [
    "## Datos de incio para idealizar el problema:\n",
    "### Se necesitan:\n",
    "\n",
    "- $16$ Cajas de Naranjas\n",
    "\n",
    "- $5$ Cajas de Plátanos\n",
    "\n",
    "- $20$ Cajas de manzanas\n",
    "\n",
    "### Mayorista \"A\":\n",
    "\n",
    "- $8$ Cajas de Naranjas\n",
    "\n",
    "- $1$ Caja de Plátanos\n",
    "\n",
    "- $2$ Cajas de Manzanas\n",
    "\n",
    "### Costo de producción: $120 u.m$\n",
    "\n",
    "### Mayorista \"B\":\n",
    "\n",
    "- $2$ Cajas de Naranjas\n",
    "\n",
    "- $1$ Caja de Plátanos\n",
    "\n",
    "- $7$ Cajas de Manzanas\n",
    "\n",
    "### Costo de producción: $300 u.m$\n",
    "\n",
    "### Se desea \"Maximizar\" la produccion de focos, por lo tanto:\n",
    "\n",
    "- $x$ = Contenedores de \"A\"\n",
    "- $y$ = Contenedores de \"B\"\n",
    "\n",
    "- $150x+300y$\n",
    "\n",
    "### Condiciones de frontera(Restricciones a tomar en cuenta):\n",
    "\n",
    "- $x+y\\geq5$\n",
    "- $8x+2y\\geq16$\n",
    "- $2x+7y\\geq20$"
   ]
  },
  {
   "cell_type": "code",
   "execution_count": 5,
   "metadata": {},
   "outputs": [
    {
     "data": {
      "text/plain": [
       "     con: array([], dtype=float64)\n",
       "     fun: 1050.0\n",
       " message: 'Optimization terminated successfully.'\n",
       "     nit: 4\n",
       "   slack: array([1.20000000e+01, 0.00000000e+00, 3.55271368e-15])\n",
       "  status: 0\n",
       " success: True\n",
       "       x: array([3., 2.])"
      ]
     },
     "execution_count": 5,
     "metadata": {},
     "output_type": "execute_result"
    }
   ],
   "source": [
    "A = np.array([[-8,-2],[-1,-1],[-2,-7]])\n",
    "b = np.array([-16,-5,-20])\n",
    "c = np.array([150,300])\n",
    "opt.linprog(c,A,b,method='simplex')"
   ]
  },
  {
   "cell_type": "markdown",
   "metadata": {},
   "source": [
    "### Por lo tanto se deben de comprar: \n",
    "- $3$ contenedores al Mayorista \"A\" \n",
    "- $2$ contenedores al Mayorista \"B\"\n",
    "\n",
    "Se reduce el costo a $1050u.m$"
   ]
  },
  {
   "cell_type": "code",
   "execution_count": null,
   "metadata": {},
   "outputs": [],
   "source": []
  }
 ],
 "metadata": {
  "kernelspec": {
   "display_name": "Python 3",
   "language": "python",
   "name": "python3"
  },
  "language_info": {
   "codemirror_mode": {
    "name": "ipython",
    "version": 3
   },
   "file_extension": ".py",
   "mimetype": "text/x-python",
   "name": "python",
   "nbconvert_exporter": "python",
   "pygments_lexer": "ipython3",
   "version": "3.8.8"
  }
 },
 "nbformat": 4,
 "nbformat_minor": 2
}
