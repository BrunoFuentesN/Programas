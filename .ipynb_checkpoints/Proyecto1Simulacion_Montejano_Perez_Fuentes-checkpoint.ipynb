{
 "cells": [
  {
   "cell_type": "markdown",
   "id": "50610526",
   "metadata": {},
   "source": [
    "# PROGRAMACION LINEAL\n",
    "### COMPAÑIA AEREA\n",
    "\n",
    "*Proyecto 1: Simulación Matemática*\n",
    "\n",
    "**Instituto Tecnologico de Estudios Superiores de Occidente**\n",
    "\n",
    "**Integrantes:**  \n",
    "\n",
    "\n",
    "- María Fernanda Ramirez Montejano. \n",
    "    \n",
    "- Samuel Alejandro Perez Avalos. \n",
    "\n",
    "- Bruno Fuentes Navarro"
   ]
  },
  {
   "cell_type": "markdown",
   "id": "1a6d69ba",
   "metadata": {},
   "source": [
    "**OBJETIVO**\n",
    "\n",
    "Obtener el maximo rendimiento para la aerolinea de acuerdo al tipo de avion que hace el viaje.\n",
    " \n",
    " **Objetivo general:**\n",
    " \n",
    " Poder hacer que la empresa tenga un mejor desempeño sabiendo los vuelos necesarios que debe de hacer cada dia para tener un margen de ganancias optimo y estable.\n",
    " \n",
    " **Objetivo especifico:**\n",
    " Como sabemos, cada tipo de empresas tiene sus problematicas en cuanto a rendimientos y ganancias, y , las aerolineas no son la excepcion. En cada aeropuerto se presenta el problema de cuantos vuelos se deben de realizar diariamente para que la empresa obtenga ganancias y evitar las perdidas lo mas que se pueda. Entonces, el objetivo de este trabajo es hacer una maximizacion de ganancias, sabiendo cuantos son los viajes que se pueden hacer por dia entre solo 2 tipos de aviones.\n",
    " \n",
    " \n",
    " \n",
    " \n",
    " \n",
    " "
   ]
  },
  {
   "cell_type": "markdown",
   "id": "fdd312fe",
   "metadata": {},
   "source": [
    "#### PROBLEMA:\n",
    "Una compañía aérea dispone de dos tipos de aviones $A_1$, y $A_2$., para cubrir un determinado\n",
    "trayecto. El avión $A_1$, debe hacer el trayecto más veces que el avión $A_2$ pero no puede sobrepasar $120$\n",
    "viajes. Entre los dos aviones deben hacer más de $60$ vuelos, pero menos de $200$. En cada viaje del avión $A_1$ la empresa gana $\\$30000$ y $\\$20000$ por cada viaje del avión $A_2$. ¿Cuántos viajes debe hacer cada avión para obtener el máximo de ganancias?"
   ]
  },
  {
   "cell_type": "markdown",
   "id": "b842cd04",
   "metadata": {},
   "source": [
    "##### SOLUCIÓN:\n",
    "\n",
    "**La función a maximizar viene dada por**\n",
    "\n",
    "$$\\max_{x_1,\\cdots,x_2} 30000x_1+20000x_2$$\n",
    "\n",
    "**Restricciones:**\n",
    "$$x_1 \\leq 120$$\n",
    "$$x_2 < x_1$$\n",
    "$$x_1+x_2 \\geq 61$$\n",
    "$$x_1+x_2 \\leq 199$$\n",
    "\n",
    "**Nota:**\n",
    "Tomamos unas restricciones como no inclusivas, o sea menor a 200 es $\\leq 199$\n",
    "y mayor a 60 es $ \\geq 61$\n",
    "\n",
    "\n"
   ]
  },
  {
   "cell_type": "code",
   "execution_count": 1,
   "id": "a292cb84",
   "metadata": {},
   "outputs": [],
   "source": [
    "import scipy.optimize as opt\n",
    "import numpy as np"
   ]
  },
  {
   "cell_type": "code",
   "execution_count": 2,
   "id": "8dd5d5a1",
   "metadata": {},
   "outputs": [],
   "source": [
    "#Escribimos las matrices\n",
    "\n",
    "A_ub = np.array([\n",
    "    [-1,0],\n",
    "    [0,-1],\n",
    "    [-1,-1],\n",
    "    [-1,-1]\n",
    "])\n",
    "\n",
    "\n",
    "c = np.array([30000,20000])\n",
    "\n",
    "b_ub = np.array([-120,-1,-61,-199])"
   ]
  },
  {
   "cell_type": "code",
   "execution_count": 3,
   "id": "87c133a8",
   "metadata": {},
   "outputs": [
    {
     "data": {
      "text/plain": [
       "     con: array([], dtype=float64)\n",
       "     fun: 5179999.988858069\n",
       " message: 'Optimization terminated successfully.'\n",
       "     nit: 6\n",
       "   slack: array([ 3.74052433e-09,  7.79999994e+01,  1.37999999e+02, -5.58966775e-07])\n",
       "  status: 0\n",
       " success: True\n",
       "       x: array([120.        ,  78.99999944])"
      ]
     },
     "execution_count": 3,
     "metadata": {},
     "output_type": "execute_result"
    }
   ],
   "source": [
    "resultado = opt.linprog(c,A_ub,b_ub)\n",
    "resultado"
   ]
  },
  {
   "cell_type": "code",
   "execution_count": 4,
   "id": "1e3b28de",
   "metadata": {},
   "outputs": [],
   "source": [
    "import scipy.optimize as opt"
   ]
  },
  {
   "cell_type": "code",
   "execution_count": 5,
   "id": "3b1b7a30",
   "metadata": {},
   "outputs": [
    {
     "data": {
      "text/plain": [
       "     con: array([], dtype=float64)\n",
       "     fun: 5179999.988858069\n",
       " message: 'Optimization terminated successfully.'\n",
       "     nit: 6\n",
       "   slack: array([ 3.74052433e-09,  7.79999994e+01,  1.37999999e+02, -5.58966775e-07])\n",
       "  status: 0\n",
       " success: True\n",
       "       x: array([120.        ,  78.99999944])"
      ]
     },
     "execution_count": 5,
     "metadata": {},
     "output_type": "execute_result"
    }
   ],
   "source": [
    "resultado = opt.linprog(c,A_ub,b_ub)\n",
    "resultado"
   ]
  },
  {
   "cell_type": "markdown",
   "id": "3c24a79e",
   "metadata": {},
   "source": [
    "**Respuesta:**\n",
    "\n",
    "El maximo de ganancias de la aerolinea seria de $5179999.98$ tomando en cuenta que el Avion 1 hace 120 viajes y el Avion 2 hace 79 viajes."
   ]
  },
  {
   "cell_type": "code",
   "execution_count": null,
   "id": "ca290005",
   "metadata": {},
   "outputs": [],
   "source": []
  },
  {
   "cell_type": "code",
   "execution_count": null,
   "id": "242833a6",
   "metadata": {},
   "outputs": [],
   "source": []
  },
  {
   "cell_type": "code",
   "execution_count": null,
   "id": "66dc736e",
   "metadata": {},
   "outputs": [],
   "source": []
  },
  {
   "cell_type": "code",
   "execution_count": null,
   "id": "ae1d25cd",
   "metadata": {},
   "outputs": [],
   "source": []
  },
  {
   "cell_type": "code",
   "execution_count": null,
   "id": "2ac6a77f",
   "metadata": {},
   "outputs": [],
   "source": []
  }
 ],
 "metadata": {
  "kernelspec": {
   "display_name": "Python 3",
   "language": "python",
   "name": "python3"
  },
  "language_info": {
   "codemirror_mode": {
    "name": "ipython",
    "version": 3
   },
   "file_extension": ".py",
   "mimetype": "text/x-python",
   "name": "python",
   "nbconvert_exporter": "python",
   "pygments_lexer": "ipython3",
   "version": "3.8.8"
  }
 },
 "nbformat": 4,
 "nbformat_minor": 5
}
